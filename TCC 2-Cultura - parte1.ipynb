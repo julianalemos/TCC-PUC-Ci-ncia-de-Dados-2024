{
 "cells": [
  {
   "cell_type": "markdown",
   "id": "bc0a30e1-6015-4856-a1af-ea3c8f768753",
   "metadata": {},
   "source": [
    "## Parte 1 do TCC - Juliana Lemos Martins Casagrande"
   ]
  },
  {
   "cell_type": "markdown",
   "id": "2e06523e-0446-49eb-9991-7c9aeda1c64b",
   "metadata": {
    "tags": []
   },
   "source": [
    "## 1. Leitura dos arquivos <br><br>"
   ]
  },
  {
   "cell_type": "code",
   "execution_count": 1,
   "id": "114adf1f",
   "metadata": {
    "editable": true,
    "slideshow": {
     "slide_type": ""
    },
    "tags": []
   },
   "outputs": [],
   "source": [
    "# Importação das bibliotecas necessárias.\n",
    "\n",
    "import pandas as pd\n",
    "import glob\n",
    "import os\n",
    "import numpy as np\n",
    "import matplotlib.pyplot as plt\n",
    "\n",
    "# Exibe os números com dois pontos decimais, ponto como separador de decimal\n",
    "# e vírgula como separador de milhar, sem notação científica.\n",
    "pd.options.display.float_format = '{:,.2f}'.format\n",
    "\n",
    "# Indicação do caminho do diretório de trabalho.\n",
    "os.chdir('D:/TCC2024')"
   ]
  },
  {
   "cell_type": "code",
   "execution_count": 2,
   "id": "055ed761",
   "metadata": {},
   "outputs": [
    {
     "name": "stdout",
     "output_type": "stream",
     "text": [
      "DOACOES\n",
      "    ano_cal   fonte     base_legal uf_doador    munic_doador  qtde_doadores  \\\n",
      "0     2002  ANCINE  NAO INFORMADA        AM     MANAUS - AM              2   \n",
      "1     2002  ANCINE  NAO INFORMADA        CE    EUSEBIO - CE              1   \n",
      "2     2002  ANCINE  NAO INFORMADA        CE  FORTALEZA - CE              3   \n",
      "3     2002  ANCINE  NAO INFORMADA        DF   BRASILIA - DF              7   \n",
      "4     2002  ANCINE  NAO INFORMADA        ES    VITORIA - ES              3   \n",
      "\n",
      "   vl_total_doacao  vl_total_dedutivel  \n",
      "0     2,095,139.97        2,095,139.97  \n",
      "1       300,000.00          300,000.00  \n",
      "2     1,048,074.00        1,048,074.00  \n",
      "3     2,386,500.00        2,386,500.00  \n",
      "4       300,000.00          300,000.00  \n",
      "\n",
      "INFO DOACOES\n",
      "\n",
      "<class 'pandas.core.frame.DataFrame'>\n",
      "RangeIndex: 77736 entries, 0 to 77735\n",
      "Data columns (total 8 columns):\n",
      " #   Column              Non-Null Count  Dtype  \n",
      "---  ------              --------------  -----  \n",
      " 0   ano_cal             77736 non-null  int32  \n",
      " 1   fonte               77736 non-null  object \n",
      " 2   base_legal          77736 non-null  object \n",
      " 3   uf_doador           77736 non-null  object \n",
      " 4   munic_doador        77736 non-null  object \n",
      " 5   qtde_doadores       77736 non-null  int32  \n",
      " 6   vl_total_doacao     77736 non-null  float64\n",
      " 7   vl_total_dedutivel  77736 non-null  float64\n",
      "dtypes: float64(2), int32(2), object(4)\n",
      "memory usage: 4.2+ MB\n",
      "None\n"
     ]
    }
   ],
   "source": [
    "# Leitura do arquivo de doadores\n",
    "dbdoacoes = pd.read_csv(\"DBF/dbf-doadores.csv\", encoding = \"iso-8859-1\", sep=\";\", decimal=\",\",\\\n",
    "                    dtype = {\"ano_cal\": int,\"fonte\": str, \"base_legal\": str, \"uf_doador\": str,\\\n",
    "                             \"munic_doador\": str, \"qtde_doadores\": int, \"vl_total_doacao\": float,\\\n",
    "                             \"vl_total_dedutivel\": float})\n",
    "print(\"DOACOES\\n\",dbdoacoes.head())\n",
    "print(\"\\nINFO DOACOES\\n\")\n",
    "print(dbdoacoes.info())"
   ]
  },
  {
   "cell_type": "code",
   "execution_count": 3,
   "id": "3d3108d6-028e-458f-aa52-cd0a92ed7342",
   "metadata": {},
   "outputs": [
    {
     "name": "stdout",
     "output_type": "stream",
     "text": [
      "BENEFICIARIOS\n",
      "    ano_cal   fonte     base_legal uf_beneficiario   munic_beneficiario  \\\n",
      "0     2002  ANCINE  NAO INFORMADA              BA        SALVADOR - BA   \n",
      "1     2002  ANCINE  NAO INFORMADA              CE       FORTALEZA - CE   \n",
      "2     2002  ANCINE  NAO INFORMADA              CE         QUIXADA - CE   \n",
      "3     2002  ANCINE  NAO INFORMADA              DF        BRASILIA - DF   \n",
      "4     2002  ANCINE  NAO INFORMADA              MG  BELO HORIZONTE - MG   \n",
      "\n",
      "   qtde_beneficiarios  vl_total_doacao  vl_total_dedutivel  \n",
      "0                   1       100,000.00          100,000.00  \n",
      "1                   1       200,000.00          200,000.00  \n",
      "2                   1       960,000.00          960,000.00  \n",
      "3                   4     1,220,223.43        1,220,223.43  \n",
      "4                   3     2,008,304.00        2,008,304.00  \n",
      "\n",
      "INFO BENEFICIARIOS\n",
      "\n",
      "<class 'pandas.core.frame.DataFrame'>\n",
      "RangeIndex: 30028 entries, 0 to 30027\n",
      "Data columns (total 8 columns):\n",
      " #   Column              Non-Null Count  Dtype  \n",
      "---  ------              --------------  -----  \n",
      " 0   ano_cal             30028 non-null  int32  \n",
      " 1   fonte               30028 non-null  object \n",
      " 2   base_legal          30028 non-null  object \n",
      " 3   uf_beneficiario     30028 non-null  object \n",
      " 4   munic_beneficiario  30028 non-null  object \n",
      " 5   qtde_beneficiarios  30028 non-null  int32  \n",
      " 6   vl_total_doacao     30028 non-null  float64\n",
      " 7   vl_total_dedutivel  30028 non-null  float64\n",
      "dtypes: float64(2), int32(2), object(4)\n",
      "memory usage: 1.6+ MB\n",
      "None\n"
     ]
    }
   ],
   "source": [
    "# Leitura do arquivo de beneficiários\n",
    "dbbenef = pd.read_csv(\"DBF/dbf-beneficiarios-municipio.csv\", encoding = \"iso-8859-1\", sep=\";\", decimal=\",\",\\\n",
    "                    dtype = {\"ano_cal\": int,\"fonte\": str, \"base_legal\": str, \"uf_beneficiario\": str,\\\n",
    "                             \"munic_beneficiario\": str, \"qtde_beneficiarios\": int, \"vl_total_doacao\": float,\\\n",
    "                             \"vl_total_dedutivel\": float})\n",
    "print(\"BENEFICIARIOS\\n\",dbbenef.head())\n",
    "print(\"\\nINFO BENEFICIARIOS\\n\")\n",
    "print(dbbenef.info())"
   ]
  },
  {
   "cell_type": "markdown",
   "id": "63a42209-22e7-4984-be94-d616a8b7094f",
   "metadata": {},
   "source": [
    "Observa-se que não há valores nulos/ausentes nem no arquivo de doações, nem no arquivo de beneficiários."
   ]
  },
  {
   "cell_type": "markdown",
   "id": "75edc556-9591-42cf-b1ab-a16fd864c9cb",
   "metadata": {
    "tags": []
   },
   "source": [
    "<br>\n",
    "\n",
    "## 2. Tratamento dos dados"
   ]
  },
  {
   "cell_type": "markdown",
   "id": "56a93fc6-b24b-4beb-979d-bcfd7a7336b1",
   "metadata": {},
   "source": [
    "### 2.1. Seleção dos registros da Lei Rouanet e dos anos de 2010 a 2022"
   ]
  },
  {
   "cell_type": "code",
   "execution_count": 4,
   "id": "b88c55c2-5282-4bf5-9c4d-e8f6e9e09c8f",
   "metadata": {},
   "outputs": [
    {
     "data": {
      "text/plain": [
       "array(['NAO INFORMADA',\n",
       "       'INCISO I, ART.12, LEI 9.250/1995 E ART 260, LEI 8.069/1991',\n",
       "       'ARTIGO 1º, LEI 11.438/2006', 'ARTIGO 18, LEI 8313/1991',\n",
       "       'ARTIGO 25 E 26, LEI 8313/1991', 'ARTIGO 1º, LEI 8685/1993',\n",
       "       'ARTIGO 1ºA, LEI 8685/1993', 'ARTS. 2º E 3º, LEI 12.213/2010',\n",
       "       'ARTS. 1º E 4º, LEI 12.715/2012', 'ARTS. 3º E 4º, LEI 12.715/2012'],\n",
       "      dtype=object)"
      ]
     },
     "execution_count": 4,
     "metadata": {},
     "output_type": "execute_result"
    }
   ],
   "source": [
    "# Verifica valores únicos no campo de base legal\n",
    "dbdoacoes['base_legal'].unique()"
   ]
  },
  {
   "cell_type": "code",
   "execution_count": 5,
   "id": "5b807513-d6f8-4c5e-b5b8-b0c91b252ecd",
   "metadata": {},
   "outputs": [
    {
     "data": {
      "text/html": [
       "<div>\n",
       "<style scoped>\n",
       "    .dataframe tbody tr th:only-of-type {\n",
       "        vertical-align: middle;\n",
       "    }\n",
       "\n",
       "    .dataframe tbody tr th {\n",
       "        vertical-align: top;\n",
       "    }\n",
       "\n",
       "    .dataframe thead th {\n",
       "        text-align: right;\n",
       "    }\n",
       "</style>\n",
       "<table border=\"1\" class=\"dataframe\">\n",
       "  <thead>\n",
       "    <tr style=\"text-align: right;\">\n",
       "      <th></th>\n",
       "      <th>fonte</th>\n",
       "      <th>base_legal</th>\n",
       "      <th>uf_doador</th>\n",
       "      <th>munic_doador</th>\n",
       "      <th>qtde_doadores</th>\n",
       "      <th>vl_total_doacao</th>\n",
       "      <th>vl_total_dedutivel</th>\n",
       "    </tr>\n",
       "    <tr>\n",
       "      <th>ano_cal</th>\n",
       "      <th></th>\n",
       "      <th></th>\n",
       "      <th></th>\n",
       "      <th></th>\n",
       "      <th></th>\n",
       "      <th></th>\n",
       "      <th></th>\n",
       "    </tr>\n",
       "  </thead>\n",
       "  <tbody>\n",
       "    <tr>\n",
       "      <th>2010</th>\n",
       "      <td>ANCINE</td>\n",
       "      <td>ARTIGO 18, LEI 8313/1991</td>\n",
       "      <td>MS</td>\n",
       "      <td>BATAGUACU - MS</td>\n",
       "      <td>1</td>\n",
       "      <td>1,000.00</td>\n",
       "      <td>1,000.00</td>\n",
       "    </tr>\n",
       "    <tr>\n",
       "      <th>2010</th>\n",
       "      <td>ANCINE</td>\n",
       "      <td>ARTIGO 18, LEI 8313/1991</td>\n",
       "      <td>MS</td>\n",
       "      <td>DOURADOS - MS</td>\n",
       "      <td>1</td>\n",
       "      <td>1,000.00</td>\n",
       "      <td>1,000.00</td>\n",
       "    </tr>\n",
       "    <tr>\n",
       "      <th>2010</th>\n",
       "      <td>ANCINE</td>\n",
       "      <td>ARTIGO 18, LEI 8313/1991</td>\n",
       "      <td>MS</td>\n",
       "      <td>NOVA ANDRADINA - MS</td>\n",
       "      <td>1</td>\n",
       "      <td>1,000.00</td>\n",
       "      <td>1,000.00</td>\n",
       "    </tr>\n",
       "    <tr>\n",
       "      <th>2010</th>\n",
       "      <td>ANCINE</td>\n",
       "      <td>ARTIGO 18, LEI 8313/1991</td>\n",
       "      <td>RJ</td>\n",
       "      <td>RIO DE JANEIRO - RJ</td>\n",
       "      <td>2</td>\n",
       "      <td>1,650,000.00</td>\n",
       "      <td>1,650,000.00</td>\n",
       "    </tr>\n",
       "    <tr>\n",
       "      <th>2010</th>\n",
       "      <td>ANCINE</td>\n",
       "      <td>ARTIGO 18, LEI 8313/1991</td>\n",
       "      <td>SP</td>\n",
       "      <td>CUBATAO - SP</td>\n",
       "      <td>1</td>\n",
       "      <td>15,500.00</td>\n",
       "      <td>15,500.00</td>\n",
       "    </tr>\n",
       "    <tr>\n",
       "      <th>...</th>\n",
       "      <td>...</td>\n",
       "      <td>...</td>\n",
       "      <td>...</td>\n",
       "      <td>...</td>\n",
       "      <td>...</td>\n",
       "      <td>...</td>\n",
       "      <td>...</td>\n",
       "    </tr>\n",
       "    <tr>\n",
       "      <th>2022</th>\n",
       "      <td>MINC</td>\n",
       "      <td>ARTIGO 25 E 26, LEI 8313/1991</td>\n",
       "      <td>SP</td>\n",
       "      <td>LOUVEIRA - SP</td>\n",
       "      <td>1</td>\n",
       "      <td>50,000.00</td>\n",
       "      <td>15,000.00</td>\n",
       "    </tr>\n",
       "    <tr>\n",
       "      <th>2022</th>\n",
       "      <td>MINC</td>\n",
       "      <td>ARTIGO 25 E 26, LEI 8313/1991</td>\n",
       "      <td>SP</td>\n",
       "      <td>MOGI MIRIM - SP</td>\n",
       "      <td>3</td>\n",
       "      <td>136,702.00</td>\n",
       "      <td>46,714.50</td>\n",
       "    </tr>\n",
       "    <tr>\n",
       "      <th>2022</th>\n",
       "      <td>MINC</td>\n",
       "      <td>ARTIGO 25 E 26, LEI 8313/1991</td>\n",
       "      <td>SP</td>\n",
       "      <td>SAO PAULO - SP</td>\n",
       "      <td>13</td>\n",
       "      <td>4,688,332.28</td>\n",
       "      <td>1,422,749.65</td>\n",
       "    </tr>\n",
       "    <tr>\n",
       "      <th>2022</th>\n",
       "      <td>MINC</td>\n",
       "      <td>ARTIGO 25 E 26, LEI 8313/1991</td>\n",
       "      <td>SP</td>\n",
       "      <td>TABOAO DA SERRA - SP</td>\n",
       "      <td>1</td>\n",
       "      <td>168,115.74</td>\n",
       "      <td>50,434.72</td>\n",
       "    </tr>\n",
       "    <tr>\n",
       "      <th>2022</th>\n",
       "      <td>MINC</td>\n",
       "      <td>ARTIGO 25 E 26, LEI 8313/1991</td>\n",
       "      <td>SP</td>\n",
       "      <td>TAUBATE - SP</td>\n",
       "      <td>1</td>\n",
       "      <td>14,340.42</td>\n",
       "      <td>4,302.12</td>\n",
       "    </tr>\n",
       "  </tbody>\n",
       "</table>\n",
       "<p>14182 rows × 7 columns</p>\n",
       "</div>"
      ],
      "text/plain": [
       "          fonte                     base_legal uf_doador  \\\n",
       "ano_cal                                                    \n",
       "2010     ANCINE       ARTIGO 18, LEI 8313/1991        MS   \n",
       "2010     ANCINE       ARTIGO 18, LEI 8313/1991        MS   \n",
       "2010     ANCINE       ARTIGO 18, LEI 8313/1991        MS   \n",
       "2010     ANCINE       ARTIGO 18, LEI 8313/1991        RJ   \n",
       "2010     ANCINE       ARTIGO 18, LEI 8313/1991        SP   \n",
       "...         ...                            ...       ...   \n",
       "2022       MINC  ARTIGO 25 E 26, LEI 8313/1991        SP   \n",
       "2022       MINC  ARTIGO 25 E 26, LEI 8313/1991        SP   \n",
       "2022       MINC  ARTIGO 25 E 26, LEI 8313/1991        SP   \n",
       "2022       MINC  ARTIGO 25 E 26, LEI 8313/1991        SP   \n",
       "2022       MINC  ARTIGO 25 E 26, LEI 8313/1991        SP   \n",
       "\n",
       "                 munic_doador  qtde_doadores  vl_total_doacao  \\\n",
       "ano_cal                                                         \n",
       "2010           BATAGUACU - MS              1         1,000.00   \n",
       "2010            DOURADOS - MS              1         1,000.00   \n",
       "2010      NOVA ANDRADINA - MS              1         1,000.00   \n",
       "2010      RIO DE JANEIRO - RJ              2     1,650,000.00   \n",
       "2010             CUBATAO - SP              1        15,500.00   \n",
       "...                       ...            ...              ...   \n",
       "2022            LOUVEIRA - SP              1        50,000.00   \n",
       "2022          MOGI MIRIM - SP              3       136,702.00   \n",
       "2022           SAO PAULO - SP             13     4,688,332.28   \n",
       "2022     TABOAO DA SERRA - SP              1       168,115.74   \n",
       "2022             TAUBATE - SP              1        14,340.42   \n",
       "\n",
       "         vl_total_dedutivel  \n",
       "ano_cal                      \n",
       "2010               1,000.00  \n",
       "2010               1,000.00  \n",
       "2010               1,000.00  \n",
       "2010           1,650,000.00  \n",
       "2010              15,500.00  \n",
       "...                     ...  \n",
       "2022              15,000.00  \n",
       "2022              46,714.50  \n",
       "2022           1,422,749.65  \n",
       "2022              50,434.72  \n",
       "2022               4,302.12  \n",
       "\n",
       "[14182 rows x 7 columns]"
      ]
     },
     "execution_count": 5,
     "metadata": {},
     "output_type": "execute_result"
    }
   ],
   "source": [
    "# Seleciona apenas os registros com a lei Rouanet - arquivo de doadores\n",
    "doacoesRouanet = dbdoacoes.loc[dbdoacoes['base_legal'].isin(['ARTIGO 18, LEI 8313/1991','ARTIGO 25 E 26, LEI 8313/1991'])]\n",
    "doacoesRouanet.set_index('ano_cal', inplace = True)\n",
    "doacoes = doacoesRouanet.loc[2010:]\n",
    "doacoes"
   ]
  },
  {
   "cell_type": "code",
   "execution_count": 6,
   "id": "eb8931af-200a-4db1-bb58-ea9a4563456d",
   "metadata": {},
   "outputs": [
    {
     "data": {
      "text/html": [
       "<div>\n",
       "<style scoped>\n",
       "    .dataframe tbody tr th:only-of-type {\n",
       "        vertical-align: middle;\n",
       "    }\n",
       "\n",
       "    .dataframe tbody tr th {\n",
       "        vertical-align: top;\n",
       "    }\n",
       "\n",
       "    .dataframe thead th {\n",
       "        text-align: right;\n",
       "    }\n",
       "</style>\n",
       "<table border=\"1\" class=\"dataframe\">\n",
       "  <thead>\n",
       "    <tr style=\"text-align: right;\">\n",
       "      <th></th>\n",
       "      <th>fonte</th>\n",
       "      <th>base_legal</th>\n",
       "      <th>uf_beneficiario</th>\n",
       "      <th>munic_beneficiario</th>\n",
       "      <th>qtde_beneficiarios</th>\n",
       "      <th>vl_total_doacao</th>\n",
       "      <th>vl_total_dedutivel</th>\n",
       "    </tr>\n",
       "    <tr>\n",
       "      <th>ano_cal</th>\n",
       "      <th></th>\n",
       "      <th></th>\n",
       "      <th></th>\n",
       "      <th></th>\n",
       "      <th></th>\n",
       "      <th></th>\n",
       "      <th></th>\n",
       "    </tr>\n",
       "  </thead>\n",
       "  <tbody>\n",
       "    <tr>\n",
       "      <th>2010</th>\n",
       "      <td>ANCINE</td>\n",
       "      <td>ARTIGO 18, LEI 8313/1991</td>\n",
       "      <td>RJ</td>\n",
       "      <td>RIO DE JANEIRO - RJ</td>\n",
       "      <td>2</td>\n",
       "      <td>2,580,000.00</td>\n",
       "      <td>2,580,000.00</td>\n",
       "    </tr>\n",
       "    <tr>\n",
       "      <th>2010</th>\n",
       "      <td>ANCINE</td>\n",
       "      <td>ARTIGO 18, LEI 8313/1991</td>\n",
       "      <td>SP</td>\n",
       "      <td>SAO PAULO - SP</td>\n",
       "      <td>1</td>\n",
       "      <td>36,500.00</td>\n",
       "      <td>36,500.00</td>\n",
       "    </tr>\n",
       "    <tr>\n",
       "      <th>2010</th>\n",
       "      <td>ANCINE</td>\n",
       "      <td>ARTIGO 25 E 26, LEI 8313/1991</td>\n",
       "      <td>BA</td>\n",
       "      <td>SALVADOR - BA</td>\n",
       "      <td>1</td>\n",
       "      <td>120,000.00</td>\n",
       "      <td>36,000.00</td>\n",
       "    </tr>\n",
       "    <tr>\n",
       "      <th>2010</th>\n",
       "      <td>ANCINE</td>\n",
       "      <td>ARTIGO 25 E 26, LEI 8313/1991</td>\n",
       "      <td>MG</td>\n",
       "      <td>BELO HORIZONTE - MG</td>\n",
       "      <td>1</td>\n",
       "      <td>100,000.00</td>\n",
       "      <td>30,000.00</td>\n",
       "    </tr>\n",
       "    <tr>\n",
       "      <th>2010</th>\n",
       "      <td>ANCINE</td>\n",
       "      <td>ARTIGO 25 E 26, LEI 8313/1991</td>\n",
       "      <td>PE</td>\n",
       "      <td>RECIFE - PE</td>\n",
       "      <td>1</td>\n",
       "      <td>7,040.00</td>\n",
       "      <td>2,112.00</td>\n",
       "    </tr>\n",
       "    <tr>\n",
       "      <th>...</th>\n",
       "      <td>...</td>\n",
       "      <td>...</td>\n",
       "      <td>...</td>\n",
       "      <td>...</td>\n",
       "      <td>...</td>\n",
       "      <td>...</td>\n",
       "      <td>...</td>\n",
       "    </tr>\n",
       "    <tr>\n",
       "      <th>2022</th>\n",
       "      <td>MINC</td>\n",
       "      <td>ARTIGO 25 E 26, LEI 8313/1991</td>\n",
       "      <td>SP</td>\n",
       "      <td>EMBU DAS ARTES - SP</td>\n",
       "      <td>1</td>\n",
       "      <td>780,000.00</td>\n",
       "      <td>234,000.00</td>\n",
       "    </tr>\n",
       "    <tr>\n",
       "      <th>2022</th>\n",
       "      <td>MINC</td>\n",
       "      <td>ARTIGO 25 E 26, LEI 8313/1991</td>\n",
       "      <td>SP</td>\n",
       "      <td>MAIRIPORA - SP</td>\n",
       "      <td>1</td>\n",
       "      <td>100,000.00</td>\n",
       "      <td>30,000.00</td>\n",
       "    </tr>\n",
       "    <tr>\n",
       "      <th>2022</th>\n",
       "      <td>MINC</td>\n",
       "      <td>ARTIGO 25 E 26, LEI 8313/1991</td>\n",
       "      <td>SP</td>\n",
       "      <td>MOGI MIRIM - SP</td>\n",
       "      <td>1</td>\n",
       "      <td>136,702.00</td>\n",
       "      <td>46,714.50</td>\n",
       "    </tr>\n",
       "    <tr>\n",
       "      <th>2022</th>\n",
       "      <td>MINC</td>\n",
       "      <td>ARTIGO 25 E 26, LEI 8313/1991</td>\n",
       "      <td>SP</td>\n",
       "      <td>SANTOS - SP</td>\n",
       "      <td>1</td>\n",
       "      <td>493,000.00</td>\n",
       "      <td>147,899.99</td>\n",
       "    </tr>\n",
       "    <tr>\n",
       "      <th>2022</th>\n",
       "      <td>MINC</td>\n",
       "      <td>ARTIGO 25 E 26, LEI 8313/1991</td>\n",
       "      <td>SP</td>\n",
       "      <td>SAO PAULO - SP</td>\n",
       "      <td>8</td>\n",
       "      <td>3,370,415.05</td>\n",
       "      <td>1,030,121.20</td>\n",
       "    </tr>\n",
       "  </tbody>\n",
       "</table>\n",
       "<p>5787 rows × 7 columns</p>\n",
       "</div>"
      ],
      "text/plain": [
       "          fonte                     base_legal uf_beneficiario  \\\n",
       "ano_cal                                                          \n",
       "2010     ANCINE       ARTIGO 18, LEI 8313/1991              RJ   \n",
       "2010     ANCINE       ARTIGO 18, LEI 8313/1991              SP   \n",
       "2010     ANCINE  ARTIGO 25 E 26, LEI 8313/1991              BA   \n",
       "2010     ANCINE  ARTIGO 25 E 26, LEI 8313/1991              MG   \n",
       "2010     ANCINE  ARTIGO 25 E 26, LEI 8313/1991              PE   \n",
       "...         ...                            ...             ...   \n",
       "2022       MINC  ARTIGO 25 E 26, LEI 8313/1991              SP   \n",
       "2022       MINC  ARTIGO 25 E 26, LEI 8313/1991              SP   \n",
       "2022       MINC  ARTIGO 25 E 26, LEI 8313/1991              SP   \n",
       "2022       MINC  ARTIGO 25 E 26, LEI 8313/1991              SP   \n",
       "2022       MINC  ARTIGO 25 E 26, LEI 8313/1991              SP   \n",
       "\n",
       "          munic_beneficiario  qtde_beneficiarios  vl_total_doacao  \\\n",
       "ano_cal                                                             \n",
       "2010     RIO DE JANEIRO - RJ                   2     2,580,000.00   \n",
       "2010          SAO PAULO - SP                   1        36,500.00   \n",
       "2010           SALVADOR - BA                   1       120,000.00   \n",
       "2010     BELO HORIZONTE - MG                   1       100,000.00   \n",
       "2010             RECIFE - PE                   1         7,040.00   \n",
       "...                      ...                 ...              ...   \n",
       "2022     EMBU DAS ARTES - SP                   1       780,000.00   \n",
       "2022          MAIRIPORA - SP                   1       100,000.00   \n",
       "2022         MOGI MIRIM - SP                   1       136,702.00   \n",
       "2022             SANTOS - SP                   1       493,000.00   \n",
       "2022          SAO PAULO - SP                   8     3,370,415.05   \n",
       "\n",
       "         vl_total_dedutivel  \n",
       "ano_cal                      \n",
       "2010           2,580,000.00  \n",
       "2010              36,500.00  \n",
       "2010              36,000.00  \n",
       "2010              30,000.00  \n",
       "2010               2,112.00  \n",
       "...                     ...  \n",
       "2022             234,000.00  \n",
       "2022              30,000.00  \n",
       "2022              46,714.50  \n",
       "2022             147,899.99  \n",
       "2022           1,030,121.20  \n",
       "\n",
       "[5787 rows x 7 columns]"
      ]
     },
     "execution_count": 6,
     "metadata": {},
     "output_type": "execute_result"
    }
   ],
   "source": [
    "# Seleciona apenas os registros com a lei Rouanet - arquivo de beneficiários\n",
    "benefRouanet = dbbenef.loc[dbbenef['base_legal'].isin(['ARTIGO 18, LEI 8313/1991','ARTIGO 25 E 26, LEI 8313/1991'])]\n",
    "benefRouanet.set_index('ano_cal', inplace = True)\n",
    "benef = benefRouanet.loc[2010:]\n",
    "benef"
   ]
  },
  {
   "cell_type": "markdown",
   "id": "3083aa87-0ec0-48c1-b25a-cd7122a97122",
   "metadata": {
    "tags": []
   },
   "source": [
    "<br>\n",
    "\n",
    "### 2.2. Inserção de coluna com a região geográfica e alteração da ordem das colunas <br> <br>\n"
   ]
  },
  {
   "cell_type": "code",
   "execution_count": 7,
   "id": "49360170-8652-493e-bc7c-ad07256a3ed9",
   "metadata": {},
   "outputs": [],
   "source": [
    "# Reseta os índices\n",
    "doacoes.reset_index(inplace = True)\n",
    "benef.reset_index(inplace = True)"
   ]
  },
  {
   "cell_type": "code",
   "execution_count": 8,
   "id": "2c795e88-71ae-4526-b79b-8ca3b064dd1a",
   "metadata": {},
   "outputs": [
    {
     "name": "stdout",
     "output_type": "stream",
     "text": [
      "DOAÇÕES\n",
      "    ano_cal   fonte                base_legal regiao_doador uf_doador  \\\n",
      "0     2010  ANCINE  ARTIGO 18, LEI 8313/1991  Centro-Oeste        MS   \n",
      "1     2010  ANCINE  ARTIGO 18, LEI 8313/1991  Centro-Oeste        MS   \n",
      "2     2010  ANCINE  ARTIGO 18, LEI 8313/1991  Centro-Oeste        MS   \n",
      "3     2010  ANCINE  ARTIGO 18, LEI 8313/1991       Sudeste        RJ   \n",
      "4     2010  ANCINE  ARTIGO 18, LEI 8313/1991       Sudeste        SP   \n",
      "\n",
      "          munic_doador  qtde_doadores  vl_total_doacao  vl_total_dedutivel  \n",
      "0       BATAGUACU - MS              1         1,000.00            1,000.00  \n",
      "1        DOURADOS - MS              1         1,000.00            1,000.00  \n",
      "2  NOVA ANDRADINA - MS              1         1,000.00            1,000.00  \n",
      "3  RIO DE JANEIRO - RJ              2     1,650,000.00        1,650,000.00  \n",
      "4         CUBATAO - SP              1        15,500.00           15,500.00  \n",
      "\n",
      "INFO DOAÇÕES\n",
      "\n",
      "<class 'pandas.core.frame.DataFrame'>\n",
      "RangeIndex: 14182 entries, 0 to 14181\n",
      "Data columns (total 9 columns):\n",
      " #   Column              Non-Null Count  Dtype  \n",
      "---  ------              --------------  -----  \n",
      " 0   ano_cal             14182 non-null  int64  \n",
      " 1   fonte               14182 non-null  object \n",
      " 2   base_legal          14182 non-null  object \n",
      " 3   regiao_doador       14182 non-null  object \n",
      " 4   uf_doador           14182 non-null  object \n",
      " 5   munic_doador        14182 non-null  object \n",
      " 6   qtde_doadores       14182 non-null  int32  \n",
      " 7   vl_total_doacao     14182 non-null  float64\n",
      " 8   vl_total_dedutivel  14182 non-null  float64\n",
      "dtypes: float64(2), int32(1), int64(1), object(5)\n",
      "memory usage: 941.9+ KB\n",
      "None\n",
      "BENEFICIÁRIOS\n",
      "    ano_cal   fonte                     base_legal regiao_benef  \\\n",
      "0     2010  ANCINE       ARTIGO 18, LEI 8313/1991      Sudeste   \n",
      "1     2010  ANCINE       ARTIGO 18, LEI 8313/1991      Sudeste   \n",
      "2     2010  ANCINE  ARTIGO 25 E 26, LEI 8313/1991     Nordeste   \n",
      "3     2010  ANCINE  ARTIGO 25 E 26, LEI 8313/1991      Sudeste   \n",
      "4     2010  ANCINE  ARTIGO 25 E 26, LEI 8313/1991     Nordeste   \n",
      "\n",
      "  uf_beneficiario   munic_beneficiario  qtde_beneficiarios  vl_total_doacao  \\\n",
      "0              RJ  RIO DE JANEIRO - RJ                   2     2,580,000.00   \n",
      "1              SP       SAO PAULO - SP                   1        36,500.00   \n",
      "2              BA        SALVADOR - BA                   1       120,000.00   \n",
      "3              MG  BELO HORIZONTE - MG                   1       100,000.00   \n",
      "4              PE          RECIFE - PE                   1         7,040.00   \n",
      "\n",
      "   vl_total_dedutivel  \n",
      "0        2,580,000.00  \n",
      "1           36,500.00  \n",
      "2           36,000.00  \n",
      "3           30,000.00  \n",
      "4            2,112.00  \n",
      "\n",
      "INFO BENEFICIÁRIOS\n",
      "\n",
      "<class 'pandas.core.frame.DataFrame'>\n",
      "RangeIndex: 5787 entries, 0 to 5786\n",
      "Data columns (total 9 columns):\n",
      " #   Column              Non-Null Count  Dtype  \n",
      "---  ------              --------------  -----  \n",
      " 0   ano_cal             5787 non-null   int64  \n",
      " 1   fonte               5787 non-null   object \n",
      " 2   base_legal          5787 non-null   object \n",
      " 3   regiao_benef        5787 non-null   object \n",
      " 4   uf_beneficiario     5787 non-null   object \n",
      " 5   munic_beneficiario  5787 non-null   object \n",
      " 6   qtde_beneficiarios  5787 non-null   int32  \n",
      " 7   vl_total_doacao     5787 non-null   float64\n",
      " 8   vl_total_dedutivel  5787 non-null   float64\n",
      "dtypes: float64(2), int32(1), int64(1), object(5)\n",
      "memory usage: 384.4+ KB\n",
      "None\n"
     ]
    },
    {
     "name": "stderr",
     "output_type": "stream",
     "text": [
      "C:\\Users\\Administrador\\AppData\\Local\\Temp\\ipykernel_8856\\67041981.py:11: SettingWithCopyWarning: \n",
      "A value is trying to be set on a copy of a slice from a DataFrame.\n",
      "Try using .loc[row_indexer,col_indexer] = value instead\n",
      "\n",
      "See the caveats in the documentation: https://pandas.pydata.org/pandas-docs/stable/user_guide/indexing.html#returning-a-view-versus-a-copy\n",
      "  doacoes['regiao_doador'] = np.select(conditions, values)\n",
      "C:\\Users\\Administrador\\AppData\\Local\\Temp\\ipykernel_8856\\67041981.py:20: SettingWithCopyWarning: \n",
      "A value is trying to be set on a copy of a slice from a DataFrame.\n",
      "Try using .loc[row_indexer,col_indexer] = value instead\n",
      "\n",
      "See the caveats in the documentation: https://pandas.pydata.org/pandas-docs/stable/user_guide/indexing.html#returning-a-view-versus-a-copy\n",
      "  benef['regiao_benef'] = np.select(conditions2, values)\n"
     ]
    }
   ],
   "source": [
    "# Inserção de coluna com a região geográfica, utilizando np.select.\n",
    "conditions = [\n",
    "    (doacoes['uf_doador'].isin(['AL', 'BA', 'CE', 'MA', 'PB', 'PE', 'PI', 'RN', 'SE'])),\n",
    "    (doacoes['uf_doador'].isin(['AC', 'AP', 'AM', 'PA', 'RO', 'RR', 'TO'])),\n",
    "    (doacoes['uf_doador'].isin(['DF','GO','MT','MS'])),\n",
    "    (doacoes['uf_doador'].isin(['ES','MG','RJ','SP'])),\n",
    "    (doacoes['uf_doador'].isin(['PR','SC','RS'])),\n",
    "    (doacoes['uf_doador'].isin(['EX']))\n",
    "]\n",
    "values = ['Nordeste', 'Norte', 'Centro-Oeste', 'Sudeste', 'Sul', 'Exterior']\n",
    "doacoes['regiao_doador'] = np.select(conditions, values)\n",
    "conditions2 = [\n",
    "    (benef['uf_beneficiario'].isin(['AL', 'BA', 'CE', 'MA', 'PB', 'PE', 'PI', 'RN', 'SE'])),\n",
    "    (benef['uf_beneficiario'].isin(['AC', 'AP', 'AM', 'PA', 'RO', 'RR', 'TO'])),\n",
    "    (benef['uf_beneficiario'].isin(['DF','GO','MT','MS'])),\n",
    "    (benef['uf_beneficiario'].isin(['ES','MG','RJ','SP'])),\n",
    "    (benef['uf_beneficiario'].isin(['PR','SC','RS'])),\n",
    "    (benef['uf_beneficiario'].isin(['EX']))\n",
    "]\n",
    "benef['regiao_benef'] = np.select(conditions2, values)\n",
    "\n",
    "# Alteração da ordem das colunas\n",
    "cols_doacoes = [\"ano_cal\", \"fonte\", \"base_legal\", \"regiao_doador\", \"uf_doador\", \"munic_doador\", \\\n",
    "                \"qtde_doadores\", \"vl_total_doacao\", \"vl_total_dedutivel\"]\n",
    "doacoes = doacoes[cols_doacoes]\n",
    "cols_benefs = [\"ano_cal\", \"fonte\", \"base_legal\", \"regiao_benef\", \"uf_beneficiario\", \\\n",
    "               \"munic_beneficiario\", \"qtde_beneficiarios\", \"vl_total_doacao\", \"vl_total_dedutivel\"]\n",
    "benef = benef[cols_benefs]\n",
    "\n",
    "print(\"DOAÇÕES\\n\",doacoes.head())\n",
    "print(\"\\nINFO DOAÇÕES\\n\")\n",
    "print(doacoes.info())\n",
    "print(\"BENEFICIÁRIOS\\n\",benef.head())\n",
    "print(\"\\nINFO BENEFICIÁRIOS\\n\")\n",
    "print(benef.info())\n"
   ]
  },
  {
   "cell_type": "code",
   "execution_count": 9,
   "id": "abdd7687-51d9-48b9-b804-a639fd44dd2d",
   "metadata": {},
   "outputs": [
    {
     "data": {
      "text/plain": [
       "<AxesSubplot: xlabel='regiao_doador'>"
      ]
     },
     "execution_count": 9,
     "metadata": {},
     "output_type": "execute_result"
    },
    {
     "data": {
      "image/png": "[encoded data removed]",
      "text/plain": [
       "<Figure size 640x480 with 1 Axes>"
      ]
     },
     "metadata": {},
     "output_type": "display_data"
    }
   ],
   "source": [
    "# Gráfico da região geográfica dos doadores no ano de 2022\n",
    "doacoes22 = doacoes[doacoes['ano_cal']==2022]\n",
    "doareg = doacoes22.groupby(['regiao_doador'])['vl_total_doacao'].sum()\n",
    "doareg.plot.bar()"
   ]
  },
  {
   "cell_type": "code",
   "execution_count": 10,
   "id": "2e77b233-9ce6-4863-b0bd-0b90da4eb9f3",
   "metadata": {},
   "outputs": [
    {
     "data": {
      "text/plain": [
       "<AxesSubplot: xlabel='regiao_benef'>"
      ]
     },
     "execution_count": 10,
     "metadata": {},
     "output_type": "execute_result"
    },
    {
     "data": {
      "image/png": "[encoded data removed]",
      "text/plain": [
       "<Figure size 640x480 with 1 Axes>"
      ]
     },
     "metadata": {},
     "output_type": "display_data"
    }
   ],
   "source": [
    "# Gráfico da região geográfica dos beneficiários no ano de 2022\n",
    "benef22 = benef[benef['ano_cal']==2022]\n",
    "benreg = benef22.groupby(['regiao_benef'])['vl_total_doacao'].sum()\n",
    "benreg.plot.bar()"
   ]
  },
  {
   "cell_type": "code",
   "execution_count": 11,
   "id": "3b36c051-51fa-4c56-beff-37ab85286e52",
   "metadata": {},
   "outputs": [
    {
     "data": {
      "text/plain": [
       "<AxesSubplot: xlabel='uf_doador'>"
      ]
     },
     "execution_count": 11,
     "metadata": {},
     "output_type": "execute_result"
    },
    {
     "data": {
      "image/png": "[encoded data removed]",
      "text/plain": [
       "<Figure size 640x480 with 1 Axes>"
      ]
     },
     "metadata": {},
     "output_type": "display_data"
    }
   ],
   "source": [
    "# Gráfico mostrando estados dos doadores no ano de 2022\n",
    "doaest = doacoes22.groupby(['uf_doador'])['vl_total_doacao'].sum()\n",
    "doaest.plot.bar()"
   ]
  },
  {
   "cell_type": "code",
   "execution_count": 12,
   "id": "9858c959-0f04-4be8-9558-74fdeac3811e",
   "metadata": {},
   "outputs": [
    {
     "data": {
      "text/plain": [
       "<AxesSubplot: xlabel='uf_beneficiario'>"
      ]
     },
     "execution_count": 12,
     "metadata": {},
     "output_type": "execute_result"
    },
    {
     "data": {
      "image/png": "[encoded data removed]",
      "text/plain": [
       "<Figure size 640x480 with 1 Axes>"
      ]
     },
     "metadata": {},
     "output_type": "display_data"
    }
   ],
   "source": [
    "# Gráfico mostrando estados dos beneficiários no ano de 2022\n",
    "benest = benef22.groupby(['uf_beneficiario'])['vl_total_doacao'].sum()\n",
    "benest.plot.bar()"
   ]
  },
  {
   "cell_type": "markdown",
   "id": "d2ced14e-4e13-434d-9f08-396e6af8a976",
   "metadata": {
    "tags": []
   },
   "source": [
    "<br>\n",
    "\n",
    "### 2.3. Checagem de valores duplicados <br> <br>"
   ]
  },
  {
   "cell_type": "code",
   "execution_count": 13,
   "id": "5ee0bd6e",
   "metadata": {},
   "outputs": [
    {
     "name": "stdout",
     "output_type": "stream",
     "text": [
      "DUPLICADOS - DOAÇÕES\n",
      "       ano_cal   fonte                     base_legal regiao_doador uf_doador  \\\n",
      "4        2010  ANCINE       ARTIGO 18, LEI 8313/1991       Sudeste        SP   \n",
      "1090     2010    MINC       ARTIGO 18, LEI 8313/1991       Sudeste        SP   \n",
      "1        2010  ANCINE       ARTIGO 18, LEI 8313/1991  Centro-Oeste        MS   \n",
      "467      2010    MINC       ARTIGO 18, LEI 8313/1991  Centro-Oeste        MS   \n",
      "5        2010  ANCINE       ARTIGO 18, LEI 8313/1991       Sudeste        SP   \n",
      "1195     2010    MINC       ARTIGO 18, LEI 8313/1991       Sudeste        SP   \n",
      "6        2010  ANCINE       ARTIGO 18, LEI 8313/1991       Sudeste        SP   \n",
      "1221     2010    MINC       ARTIGO 18, LEI 8313/1991       Sudeste        SP   \n",
      "3        2010  ANCINE       ARTIGO 18, LEI 8313/1991       Sudeste        RJ   \n",
      "696      2010    MINC       ARTIGO 18, LEI 8313/1991       Sudeste        RJ   \n",
      "7        2010  ANCINE       ARTIGO 18, LEI 8313/1991       Sudeste        SP   \n",
      "1257     2010    MINC       ARTIGO 18, LEI 8313/1991       Sudeste        SP   \n",
      "8        2010  ANCINE       ARTIGO 18, LEI 8313/1991       Sudeste        SP   \n",
      "1261     2010    MINC       ARTIGO 18, LEI 8313/1991       Sudeste        SP   \n",
      "9        2010  ANCINE  ARTIGO 25 E 26, LEI 8313/1991      Nordeste        PE   \n",
      "1462     2010    MINC  ARTIGO 25 E 26, LEI 8313/1991      Nordeste        PE   \n",
      "10       2010  ANCINE  ARTIGO 25 E 26, LEI 8313/1991       Sudeste        RJ   \n",
      "1513     2010    MINC  ARTIGO 25 E 26, LEI 8313/1991       Sudeste        RJ   \n",
      "1737     2011  ANCINE       ARTIGO 18, LEI 8313/1991       Sudeste        SP   \n",
      "2690     2011    MINC       ARTIGO 18, LEI 8313/1991       Sudeste        SP   \n",
      "\n",
      "                    munic_doador  qtde_doadores  vl_total_doacao  \\\n",
      "4                   CUBATAO - SP              1        15,500.00   \n",
      "1090                CUBATAO - SP              4       388,067.10   \n",
      "1                  DOURADOS - MS              1         1,000.00   \n",
      "467                DOURADOS - MS             12        18,456.07   \n",
      "5                  OURINHOS - SP              1         1,000.00   \n",
      "1195               OURINHOS - SP              9       136,170.00   \n",
      "6       PRESIDENTE PRUDENTE - SP              1         1,000.00   \n",
      "1221    PRESIDENTE PRUDENTE - SP             33       118,599.46   \n",
      "3            RIO DE JANEIRO - RJ              2     1,650,000.00   \n",
      "696          RIO DE JANEIRO - RJ           1598   319,614,410.10   \n",
      "7     SAO JOSE DO RIO PRETO - SP              1         2,000.00   \n",
      "1257  SAO JOSE DO RIO PRETO - SP             99       332,761.94   \n",
      "8                 SAO PAULO - SP              2       944,000.00   \n",
      "1261              SAO PAULO - SP           2034   232,963,485.90   \n",
      "9                    RECIFE - PE              1         7,040.00   \n",
      "1462                 RECIFE - PE             35     2,060,064.79   \n",
      "10           RIO DE JANEIRO - RJ              3       266,250.00   \n",
      "1513         RIO DE JANEIRO - RJ             51    57,053,328.74   \n",
      "1737                CUBATAO - SP              1        26,536.55   \n",
      "2690                CUBATAO - SP              5       315,701.00   \n",
      "\n",
      "      vl_total_dedutivel  \n",
      "4              15,500.00  \n",
      "1090          388,067.10  \n",
      "1               1,000.00  \n",
      "467            18,456.07  \n",
      "5               1,000.00  \n",
      "1195          136,170.00  \n",
      "6               1,000.00  \n",
      "1221          118,599.46  \n",
      "3           1,650,000.00  \n",
      "696       319,614,410.10  \n",
      "7               2,000.00  \n",
      "1257          332,761.94  \n",
      "8             944,000.00  \n",
      "1261      232,963,485.90  \n",
      "9               2,112.00  \n",
      "1462          641,222.77  \n",
      "10             79,875.00  \n",
      "1513       17,229,592.42  \n",
      "1737           26,536.55  \n",
      "2690          315,701.00  \n",
      "(102, 9)\n",
      "TIPOS DE FONTES - DOAÇÕES\n",
      " ['ANCINE' 'MINC']\n",
      "DUPLICADOS - BENEFICIÁRIOS\n",
      "      ano_cal   fonte                     base_legal  regiao_benef  \\\n",
      "0       2010  ANCINE       ARTIGO 18, LEI 8313/1991       Sudeste   \n",
      "160     2010    MINC       ARTIGO 18, LEI 8313/1991       Sudeste   \n",
      "1       2010  ANCINE       ARTIGO 18, LEI 8313/1991       Sudeste   \n",
      "315     2010    MINC       ARTIGO 18, LEI 8313/1991       Sudeste   \n",
      "3       2010  ANCINE  ARTIGO 25 E 26, LEI 8313/1991       Sudeste   \n",
      "342     2010    MINC  ARTIGO 25 E 26, LEI 8313/1991       Sudeste   \n",
      "4       2010  ANCINE  ARTIGO 25 E 26, LEI 8313/1991      Nordeste   \n",
      "366     2010    MINC  ARTIGO 25 E 26, LEI 8313/1991      Nordeste   \n",
      "5       2010  ANCINE  ARTIGO 25 E 26, LEI 8313/1991       Sudeste   \n",
      "374     2010    MINC  ARTIGO 25 E 26, LEI 8313/1991       Sudeste   \n",
      "2       2010  ANCINE  ARTIGO 25 E 26, LEI 8313/1991      Nordeste   \n",
      "329     2010    MINC  ARTIGO 25 E 26, LEI 8313/1991      Nordeste   \n",
      "420     2011  ANCINE       ARTIGO 18, LEI 8313/1991       Sudeste   \n",
      "593     2011    MINC       ARTIGO 18, LEI 8313/1991       Sudeste   \n",
      "421     2011  ANCINE       ARTIGO 18, LEI 8313/1991       Sudeste   \n",
      "770     2011    MINC       ARTIGO 18, LEI 8313/1991       Sudeste   \n",
      "423     2011  ANCINE  ARTIGO 25 E 26, LEI 8313/1991  Centro-Oeste   \n",
      "817     2011    MINC  ARTIGO 25 E 26, LEI 8313/1991  Centro-Oeste   \n",
      "424     2011  ANCINE  ARTIGO 25 E 26, LEI 8313/1991       Sudeste   \n",
      "836     2011    MINC  ARTIGO 25 E 26, LEI 8313/1991       Sudeste   \n",
      "\n",
      "    uf_beneficiario   munic_beneficiario  qtde_beneficiarios  vl_total_doacao  \\\n",
      "0                RJ  RIO DE JANEIRO - RJ                   2     2,580,000.00   \n",
      "160              RJ  RIO DE JANEIRO - RJ                 357   230,008,987.80   \n",
      "1                SP       SAO PAULO - SP                   1        36,500.00   \n",
      "315              SP       SAO PAULO - SP                 452   375,588,421.80   \n",
      "3                MG  BELO HORIZONTE - MG                   1       100,000.00   \n",
      "342              MG  BELO HORIZONTE - MG                  28     5,299,206.02   \n",
      "4                PE          RECIFE - PE                   1         7,040.00   \n",
      "366              PE          RECIFE - PE                   8     3,195,196.18   \n",
      "5                RJ  RIO DE JANEIRO - RJ                   1        46,250.00   \n",
      "374              RJ  RIO DE JANEIRO - RJ                  48    29,467,900.52   \n",
      "2                BA        SALVADOR - BA                   1       120,000.00   \n",
      "329              BA        SALVADOR - BA                  14     6,723,179.83   \n",
      "420              RJ  RIO DE JANEIRO - RJ                   2     4,523,000.00   \n",
      "593              RJ  RIO DE JANEIRO - RJ                 385   285,510,070.90   \n",
      "421              SP       SAO PAULO - SP                   1        93,295.78   \n",
      "770              SP       SAO PAULO - SP                 532   465,819,588.00   \n",
      "423              MT          CUIABA - MT                   1       240,000.00   \n",
      "817              MT          CUIABA - MT                   2       121,689.10   \n",
      "424              RJ  RIO DE JANEIRO - RJ                   2        85,707.20   \n",
      "836              RJ  RIO DE JANEIRO - RJ                  59    44,553,365.67   \n",
      "\n",
      "     vl_total_dedutivel  \n",
      "0          2,580,000.00  \n",
      "160      230,008,987.80  \n",
      "1             36,500.00  \n",
      "315      375,588,421.80  \n",
      "3             30,000.00  \n",
      "342        1,600,502.82  \n",
      "4              2,112.00  \n",
      "366          958,558.85  \n",
      "5             13,875.00  \n",
      "374        8,840,370.11  \n",
      "2             36,000.00  \n",
      "329        2,016,953.94  \n",
      "420        4,523,000.00  \n",
      "593      285,510,070.90  \n",
      "421           93,295.78  \n",
      "770      465,819,588.00  \n",
      "423           72,000.00  \n",
      "817           46,506.73  \n",
      "424           25,712.16  \n",
      "836       13,367,509.65  \n",
      "(62, 9)\n",
      "TIPOS DE FONTES - BENEFICIÁRIOS\n",
      " ['ANCINE' 'MINC']\n"
     ]
    }
   ],
   "source": [
    "# Verifica os registros duplicados, considerando apenas as colunas de ano, base legal e município.\n",
    "duplicados_doacoes = doacoes[doacoes.duplicated(subset = ([\"ano_cal\", \"base_legal\", \"munic_doador\"]), \\\n",
    "                                                keep = False)].sort_values([\"ano_cal\", \"base_legal\", \"munic_doador\"])\n",
    "duplicados_beneficiarios = benef[benef.duplicated(subset = ([\"ano_cal\", \"base_legal\", \"munic_beneficiario\"]), \\\n",
    "                                                         keep = False)].sort_values ([\"ano_cal\", \"base_legal\", \\\n",
    "                                                                                      \"munic_beneficiario\"])\n",
    "print(\"DUPLICADOS - DOAÇÕES\\n\",duplicados_doacoes.head(20))\n",
    "print(duplicados_doacoes.shape)\n",
    "print(\"TIPOS DE FONTES - DOAÇÕES\\n\",duplicados_doacoes['fonte'].unique())\n",
    "print(\"DUPLICADOS - BENEFICIÁRIOS\\n\",duplicados_beneficiarios.head(20))\n",
    "print(duplicados_beneficiarios.shape)\n",
    "print(\"TIPOS DE FONTES - BENEFICIÁRIOS\\n\",duplicados_beneficiarios['fonte'].unique())"
   ]
  },
  {
   "cell_type": "markdown",
   "id": "9c9e7f7d-cd11-4dd6-97e2-e634c63ae561",
   "metadata": {},
   "source": [
    "<br>\n",
    "<br> Observa-se que os registros com mesmos dados de município, ano e base legal se referem a informações prestadas pela Ancine e pelo MinC.\n",
    "\n",
    "Ambos os órgãos estão obrigados à prestação de informações na DBF, conforme Instrução Normativa RFB nº 1.307/2012, art. 2º, III e IV:\n",
    "\n",
    "> *Art. 2º Ficam obrigados à apresentação da DBF:*\n",
    "\n",
    "> *(...)*\n",
    "\n",
    "> *III - o Ministério da Cultura, no que diz respeito às contribuições ao Fundo Nacional da Cultura (FNC), às doações e aos patrocínios a projetos culturais que tenham sido previamente aprovados por esse órgão e aos valores despendidos a título de aquisição do vale-cultura; (Redação dada pelo(a) Instrução Normativa RFB nº 1426, de 20 de dezembro de 2013)*\n",
    "\n",
    "> *IV - a Agência Nacional do Cinema (Ancine), no que diz respeito às doações, aos investimentos e aos patrocínios a projetos de obras audiovisuais que tenham sido previamente aprovados por essa agência e aos benefícios fiscais oriundos de remessas para o exterior;*\n",
    "\n",
    "> *(...)*\n",
    "\n",
    "Aparentemente, não há duplicidade de valores, pois as informações prestadas pela Ancine e pelo MinC são distintas e, ademais, os valores não são sequer próximos. Iremos considerar, para este trabalho, que **não há valores duplicados.**\n",
    "<br>\n",
    "<br>"
   ]
  },
  {
   "cell_type": "markdown",
   "id": "9a6d5b2e-2a39-4d82-80e9-f48b4d113926",
   "metadata": {},
   "source": [
    "### 2.4. Comparação dos totais das duas bases (doações e beneficiários) <br> <br>"
   ]
  },
  {
   "cell_type": "code",
   "execution_count": 14,
   "id": "3a03dff3",
   "metadata": {
    "scrolled": true
   },
   "outputs": [
    {
     "name": "stdout",
     "output_type": "stream",
     "text": [
      "VALORES DOADOS POR ANO\n",
      "          vl_total_doacao  vl_total_doacao_milhoes\n",
      "ano_cal                                          \n",
      "2010    1,165,872,001.74                 1,165.87\n",
      "2011    1,330,047,539.21                 1,330.05\n",
      "2012    1,277,927,822.01                 1,277.93\n",
      "2013    1,261,392,243.19                 1,261.39\n",
      "2014    1,336,379,868.68                 1,336.38\n",
      "2015    1,205,623,972.86                 1,205.62\n",
      "2016    1,146,424,698.75                 1,146.42\n",
      "2017    1,189,635,059.02                 1,189.64\n",
      "2018    1,296,122,567.51                 1,296.12\n",
      "2019    1,483,220,758.90                 1,483.22\n",
      "2020    1,502,271,102.46                 1,502.27\n",
      "2021    2,132,517,131.94                 2,132.52\n",
      "2022    2,099,930,272.54                 2,099.93\n",
      "VALORES DOADOS DEDUTÍVEIS POR ANO\n",
      "          vl_total_dedutivel  vl_total_ded_milhoes\n",
      "ano_cal                                          \n",
      "2010       1,064,049,602.61              1,064.05\n",
      "2011       1,230,788,385.19              1,230.79\n",
      "2012       1,195,790,122.16              1,195.79\n",
      "2013       1,196,736,062.97              1,196.74\n",
      "2014       1,266,255,646.31              1,266.26\n",
      "2015       1,153,433,594.24              1,153.43\n",
      "2016       1,114,140,006.54              1,114.14\n",
      "2017       1,166,937,916.29              1,166.94\n",
      "2018       1,276,488,649.20              1,276.49\n",
      "2019       1,472,500,906.99              1,472.50\n",
      "2020       1,484,848,757.28              1,484.85\n",
      "2021       2,121,173,570.80              2,121.17\n",
      "2022       2,090,299,559.70              2,090.30\n",
      "VALORES BENEFÍCIOS POR ANO\n",
      "          vl_total_doacao  vl_total_doacao_milhoes\n",
      "ano_cal                                          \n",
      "2010    1,165,872,055.68                 1,165.87\n",
      "2011    1,330,047,539.20                 1,330.05\n",
      "2012    1,277,927,821.99                 1,277.93\n",
      "2013    1,261,392,243.21                 1,261.39\n",
      "2014    1,336,379,868.72                 1,336.38\n",
      "2015    1,205,623,973.01                 1,205.62\n",
      "2016    1,146,424,698.64                 1,146.42\n",
      "2017    1,189,635,058.97                 1,189.64\n",
      "2018    1,296,122,567.56                 1,296.12\n",
      "2019    1,483,220,758.99                 1,483.22\n",
      "2020    1,502,271,102.44                 1,502.27\n",
      "2021    2,132,517,131.88                 2,132.52\n",
      "2022    2,099,930,272.56                 2,099.93\n",
      "VALORES BENEFÍCIOS DEDUTÍVEIS POR ANO\n",
      "          vl_total_dedutivel  vl_total_ded_milhoes\n",
      "ano_cal                                          \n",
      "2010       1,064,049,656.55              1,064.05\n",
      "2011       1,230,788,385.18              1,230.79\n",
      "2012       1,195,790,122.14              1,195.79\n",
      "2013       1,196,736,062.99              1,196.74\n",
      "2014       1,266,255,646.35              1,266.26\n",
      "2015       1,153,433,594.39              1,153.43\n",
      "2016       1,114,140,006.43              1,114.14\n",
      "2017       1,166,937,916.24              1,166.94\n",
      "2018       1,276,488,649.25              1,276.49\n",
      "2019       1,472,500,907.08              1,472.50\n",
      "2020       1,484,848,757.26              1,484.85\n",
      "2021       2,121,173,570.74              2,121.17\n",
      "2022       2,090,299,559.72              2,090.30\n"
     ]
    }
   ],
   "source": [
    "# Verifica o total de doações por ano, em R$ milhões\n",
    "vls_doados_ano = doacoes.groupby('ano_cal')['vl_total_doacao'].sum()\n",
    "vls_doados_ano=vls_doados_ano.to_frame()\n",
    "doac_milhoes = vls_doados_ano['vl_total_doacao'].astype(float)/1000000\n",
    "vls_doados_ano['vl_total_doacao_milhoes'] = doac_milhoes.round(2)\n",
    "print('VALORES DOADOS POR ANO\\n',vls_doados_ano)\n",
    "\n",
    "# Verifica o total de doações dedutíveis por ano, em R$ milhões\n",
    "vls_doados_ded_ano = doacoes.groupby('ano_cal')['vl_total_dedutivel'].sum()\n",
    "vls_doados_ded_ano=vls_doados_ded_ano.to_frame()\n",
    "doac_ded_milhoes = vls_doados_ded_ano['vl_total_dedutivel'].astype(float)/1000000\n",
    "vls_doados_ded_ano['vl_total_ded_milhoes'] = doac_ded_milhoes.round(2)\n",
    "print('VALORES DOADOS DEDUTÍVEIS POR ANO\\n',vls_doados_ded_ano)\n",
    "\n",
    "# Verifica o total de doações por ano, em R$ milhões, no arquivo de beneficiários\n",
    "vls_benef_ano = benef.groupby('ano_cal')['vl_total_doacao'].sum()\n",
    "vls_benef_ano = vls_benef_ano.to_frame()\n",
    "benef_milhoes = vls_benef_ano['vl_total_doacao'].astype(float)/1000000\n",
    "vls_benef_ano['vl_total_doacao_milhoes'] = benef_milhoes.round(2)\n",
    "print('VALORES BENEFÍCIOS POR ANO\\n',vls_benef_ano)\n",
    "\n",
    "# Verifica o total de doações dedutíveis por ano, em R$ milhões, no arquivo de beneficiários\n",
    "vls_benef_ded_ano = benef.groupby('ano_cal')['vl_total_dedutivel'].sum()\n",
    "vls_benef_ded_ano = vls_benef_ded_ano.to_frame()\n",
    "benef_ded_milhoes = vls_benef_ded_ano['vl_total_dedutivel'].astype(float)/1000000\n",
    "vls_benef_ded_ano['vl_total_ded_milhoes'] = benef_ded_milhoes.round(2)\n",
    "print('VALORES BENEFÍCIOS DEDUTÍVEIS POR ANO\\n',vls_benef_ded_ano)"
   ]
  },
  {
   "cell_type": "code",
   "execution_count": 15,
   "id": "1fdbbd4b-53af-42bc-9329-1adba69f895a",
   "metadata": {},
   "outputs": [
    {
     "name": "stdout",
     "output_type": "stream",
     "text": [
      "TOTAL DE DOAÇÕES DE 2010 A 2021, EM R$ MILHÕES\n",
      " 18427.359999999997\n",
      "TOTAL DE DOAÇÕES DEDUTÍVEIS, DE 2010 A 2021, EM R$ MILHÕES\n",
      " 17833.45\n",
      "TOTAL DE DOAÇÕES, DE 2010 A 2021 - ARQUIVO DE BENEFICIÁRIOS - EM R$ MILHÕES\n",
      " 18427.359999999997\n",
      "TOTAL DE DOAÇÕES DEDUTÍVEIS, DE 2010 A 2021 - ARQUIVO DE BENEFICIÁRIOS - EM R$ MILHÕES\n",
      " 17833.45\n"
     ]
    }
   ],
   "source": [
    "# Totalizações\n",
    "print('TOTAL DE DOAÇÕES DE 2010 A 2021, EM R$ MILHÕES\\n', vls_doados_ano['vl_total_doacao_milhoes'].sum())\n",
    "print('TOTAL DE DOAÇÕES DEDUTÍVEIS, DE 2010 A 2021, EM R$ MILHÕES\\n', vls_doados_ded_ano['vl_total_ded_milhoes'].sum())\n",
    "print('TOTAL DE DOAÇÕES, DE 2010 A 2021 - ARQUIVO DE BENEFICIÁRIOS - EM R$ MILHÕES\\n', vls_benef_ano['vl_total_doacao_milhoes'].sum())\n",
    "print('TOTAL DE DOAÇÕES DEDUTÍVEIS, DE 2010 A 2021 - ARQUIVO DE BENEFICIÁRIOS - EM R$ MILHÕES\\n', vls_benef_ded_ano['vl_total_ded_milhoes'].sum())"
   ]
  },
  {
   "cell_type": "markdown",
   "id": "65431dfe-72ef-43d5-808a-2b0fef419c27",
   "metadata": {},
   "source": [
    "<br> \n",
    "Observa-se que os totais de doações e de doações dedutíveis são iguais nas duas bases de dados (doações e beneficiários). <br> Esse fato é mais um elemento demonstrando a consistência das duas bases. <br> <br>"
   ]
  },
  {
   "cell_type": "markdown",
   "id": "5de95e13-2a68-421c-95af-b16a07a4379b",
   "metadata": {},
   "source": [
    "### 2.5. Leitura do arquivo dbf-doacoes-projetos-culturais.csv, para obter a quantidade de pessoas físicas e jurídicas"
   ]
  },
  {
   "cell_type": "code",
   "execution_count": 16,
   "id": "7b1fe932-b0c8-4bf8-b93d-0553c1333942",
   "metadata": {},
   "outputs": [
    {
     "data": {
      "text/html": [
       "<div>\n",
       "<style scoped>\n",
       "    .dataframe tbody tr th:only-of-type {\n",
       "        vertical-align: middle;\n",
       "    }\n",
       "\n",
       "    .dataframe tbody tr th {\n",
       "        vertical-align: top;\n",
       "    }\n",
       "\n",
       "    .dataframe thead th {\n",
       "        text-align: right;\n",
       "    }\n",
       "</style>\n",
       "<table border=\"1\" class=\"dataframe\">\n",
       "  <thead>\n",
       "    <tr style=\"text-align: right;\">\n",
       "      <th></th>\n",
       "      <th>Qtd contribuintes PF</th>\n",
       "      <th>Doação contr PF</th>\n",
       "      <th>Doação ded contr PF</th>\n",
       "      <th>Qtd contribuintes PJ</th>\n",
       "      <th>Doação contr PJ</th>\n",
       "      <th>Doação ded contr PJ</th>\n",
       "      <th>% ded PF</th>\n",
       "      <th>Média_PF</th>\n",
       "      <th>Média_PJ</th>\n",
       "      <th>% ded PJ</th>\n",
       "    </tr>\n",
       "    <tr>\n",
       "      <th>Ano</th>\n",
       "      <th></th>\n",
       "      <th></th>\n",
       "      <th></th>\n",
       "      <th></th>\n",
       "      <th></th>\n",
       "      <th></th>\n",
       "      <th></th>\n",
       "      <th></th>\n",
       "      <th></th>\n",
       "      <th></th>\n",
       "    </tr>\n",
       "  </thead>\n",
       "  <tbody>\n",
       "    <tr>\n",
       "      <th>2010</th>\n",
       "      <td>19960</td>\n",
       "      <td>16,340,117.53</td>\n",
       "      <td>15,718,870.96</td>\n",
       "      <td>3198</td>\n",
       "      <td>1,244,872,707.10</td>\n",
       "      <td>1,143,671,557.10</td>\n",
       "      <td>103.95</td>\n",
       "      <td>818.64</td>\n",
       "      <td>389,266.01</td>\n",
       "      <td>108.85</td>\n",
       "    </tr>\n",
       "    <tr>\n",
       "      <th>2011</th>\n",
       "      <td>16217</td>\n",
       "      <td>19,834,848.40</td>\n",
       "      <td>19,271,419.03</td>\n",
       "      <td>3548</td>\n",
       "      <td>1,406,539,093.80</td>\n",
       "      <td>1,307,843,371.33</td>\n",
       "      <td>102.92</td>\n",
       "      <td>1,223.09</td>\n",
       "      <td>396,431.54</td>\n",
       "      <td>107.55</td>\n",
       "    </tr>\n",
       "    <tr>\n",
       "      <th>2012</th>\n",
       "      <td>16843</td>\n",
       "      <td>22,829,149.32</td>\n",
       "      <td>22,743,575.33</td>\n",
       "      <td>3447</td>\n",
       "      <td>1,333,528,604.07</td>\n",
       "      <td>1,251,476,478.57</td>\n",
       "      <td>100.38</td>\n",
       "      <td>1,355.41</td>\n",
       "      <td>386,866.44</td>\n",
       "      <td>106.56</td>\n",
       "    </tr>\n",
       "    <tr>\n",
       "      <th>2013</th>\n",
       "      <td>8011</td>\n",
       "      <td>24,184,460.63</td>\n",
       "      <td>24,022,587.08</td>\n",
       "      <td>3819</td>\n",
       "      <td>1,338,837,831.00</td>\n",
       "      <td>1,274,343,524.80</td>\n",
       "      <td>100.67</td>\n",
       "      <td>3,018.91</td>\n",
       "      <td>350,572.88</td>\n",
       "      <td>105.06</td>\n",
       "    </tr>\n",
       "    <tr>\n",
       "      <th>2014</th>\n",
       "      <td>9708</td>\n",
       "      <td>25,276,920.60</td>\n",
       "      <td>25,132,084.10</td>\n",
       "      <td>3850</td>\n",
       "      <td>1,413,986,082.70</td>\n",
       "      <td>1,344,006,697.30</td>\n",
       "      <td>100.58</td>\n",
       "      <td>2,603.72</td>\n",
       "      <td>367,269.11</td>\n",
       "      <td>105.21</td>\n",
       "    </tr>\n",
       "  </tbody>\n",
       "</table>\n",
       "</div>"
      ],
      "text/plain": [
       "      Qtd contribuintes PF  Doação contr PF  Doação ded contr PF  \\\n",
       "Ano                                                                \n",
       "2010                 19960    16,340,117.53        15,718,870.96   \n",
       "2011                 16217    19,834,848.40        19,271,419.03   \n",
       "2012                 16843    22,829,149.32        22,743,575.33   \n",
       "2013                  8011    24,184,460.63        24,022,587.08   \n",
       "2014                  9708    25,276,920.60        25,132,084.10   \n",
       "\n",
       "      Qtd contribuintes PJ  Doação contr PJ  Doação ded contr PJ  % ded PF  \\\n",
       "Ano                                                                          \n",
       "2010                  3198 1,244,872,707.10     1,143,671,557.10    103.95   \n",
       "2011                  3548 1,406,539,093.80     1,307,843,371.33    102.92   \n",
       "2012                  3447 1,333,528,604.07     1,251,476,478.57    100.38   \n",
       "2013                  3819 1,338,837,831.00     1,274,343,524.80    100.67   \n",
       "2014                  3850 1,413,986,082.70     1,344,006,697.30    100.58   \n",
       "\n",
       "      Média_PF   Média_PJ  % ded PJ  \n",
       "Ano                                  \n",
       "2010    818.64 389,266.01    108.85  \n",
       "2011  1,223.09 396,431.54    107.55  \n",
       "2012  1,355.41 386,866.44    106.56  \n",
       "2013  3,018.91 350,572.88    105.06  \n",
       "2014  2,603.72 367,269.11    105.21  "
      ]
     },
     "execution_count": 16,
     "metadata": {},
     "output_type": "execute_result"
    }
   ],
   "source": [
    "dbf_doa_proj_cul = pd.read_csv('DBF/dbf-doacoes-projetos-culturais.csv',encoding = \"iso-8859-1\", sep = \";\", decimal = \",\", usecols = [8, 10, 11, 12, 13, 14, 15],\\\n",
    "                              names = ('Ano', 'Qtd contribuintes PF','Doação contr PF', 'Doação ded contr PF', 'Qtd contribuintes PJ', 'Doação contr PJ', \\\n",
    "                                       'Doação ded contr PJ'), \\\n",
    "                               dtype = {'Ano': 'Int64', 'Qtd contribuintes PF': 'Int64', 'Doação contr PF': 'float','Doação ded contr PF': 'float', \\\n",
    "                                        'Qtd contribuintes PJ': 'Int64', 'Doação contr PJ': 'float', 'Doação ded contr PJ': 'float'}, header=0)\n",
    "\n",
    "# Remove a linha de totais\n",
    "#dbf_doa_proj_cul.drop([23], inplace = True) \n",
    "# Remove as linhas de 2009 e de 2022\n",
    "#dbf_doa_proj_cul.drop([13], inplace = True)\n",
    "#dbf_doa_proj_cul.drop([8], inplace = True)\n",
    "# Agrega por ano\n",
    "doa_pc = dbf_doa_proj_cul.groupby('Ano').sum() \n",
    "# % de doações que são dedutíveis - PF\n",
    "doa_pc['% ded PF'] = doa_pc['Doação contr PF'] / doa_pc['Doação ded contr PF'] * 100 \n",
    "# Calcula a média de doações por PF\n",
    "doa_pc['Média_PF'] = doa_pc['Doação contr PF'] / doa_pc['Qtd contribuintes PF'] \n",
    "# Calcula a média de doações por PF\n",
    "doa_pc['Média_PJ'] = doa_pc['Doação contr PJ'] / doa_pc['Qtd contribuintes PJ'] \n",
    "# % de doações que são dedutíveis - Pj\n",
    "doa_pc['% ded PJ'] = doa_pc['Doação contr PJ'] / doa_pc['Doação ded contr PJ'] * 100 \n",
    "doa_pc.head()"
   ]
  },
  {
   "cell_type": "code",
   "execution_count": 17,
   "id": "81eea2a4-8d40-48b1-955c-099ea3187c1b",
   "metadata": {},
   "outputs": [
    {
     "data": {
      "text/html": [
       "<div>\n",
       "<style scoped>\n",
       "    .dataframe tbody tr th:only-of-type {\n",
       "        vertical-align: middle;\n",
       "    }\n",
       "\n",
       "    .dataframe tbody tr th {\n",
       "        vertical-align: top;\n",
       "    }\n",
       "\n",
       "    .dataframe thead th {\n",
       "        text-align: right;\n",
       "    }\n",
       "</style>\n",
       "<table border=\"1\" class=\"dataframe\">\n",
       "  <thead>\n",
       "    <tr style=\"text-align: right;\">\n",
       "      <th></th>\n",
       "      <th>Qtd contribuintes PF</th>\n",
       "      <th>Doação contr PF</th>\n",
       "      <th>Média_PF</th>\n",
       "      <th>Doação ded contr PF</th>\n",
       "      <th>% ded PF</th>\n",
       "      <th>Qtd contribuintes PJ</th>\n",
       "      <th>Doação contr PJ</th>\n",
       "      <th>Média_PJ</th>\n",
       "      <th>Doação ded contr PJ</th>\n",
       "      <th>% ded PF</th>\n",
       "    </tr>\n",
       "    <tr>\n",
       "      <th>Ano</th>\n",
       "      <th></th>\n",
       "      <th></th>\n",
       "      <th></th>\n",
       "      <th></th>\n",
       "      <th></th>\n",
       "      <th></th>\n",
       "      <th></th>\n",
       "      <th></th>\n",
       "      <th></th>\n",
       "      <th></th>\n",
       "    </tr>\n",
       "  </thead>\n",
       "  <tbody>\n",
       "    <tr>\n",
       "      <th>2010</th>\n",
       "      <td>19960</td>\n",
       "      <td>16,340,117.53</td>\n",
       "      <td>818.64</td>\n",
       "      <td>15,718,870.96</td>\n",
       "      <td>103.95</td>\n",
       "      <td>3198</td>\n",
       "      <td>1,244,872,707.10</td>\n",
       "      <td>389,266.01</td>\n",
       "      <td>1,143,671,557.10</td>\n",
       "      <td>103.95</td>\n",
       "    </tr>\n",
       "    <tr>\n",
       "      <th>2011</th>\n",
       "      <td>16217</td>\n",
       "      <td>19,834,848.40</td>\n",
       "      <td>1,223.09</td>\n",
       "      <td>19,271,419.03</td>\n",
       "      <td>102.92</td>\n",
       "      <td>3548</td>\n",
       "      <td>1,406,539,093.80</td>\n",
       "      <td>396,431.54</td>\n",
       "      <td>1,307,843,371.33</td>\n",
       "      <td>102.92</td>\n",
       "    </tr>\n",
       "    <tr>\n",
       "      <th>2012</th>\n",
       "      <td>16843</td>\n",
       "      <td>22,829,149.32</td>\n",
       "      <td>1,355.41</td>\n",
       "      <td>22,743,575.33</td>\n",
       "      <td>100.38</td>\n",
       "      <td>3447</td>\n",
       "      <td>1,333,528,604.07</td>\n",
       "      <td>386,866.44</td>\n",
       "      <td>1,251,476,478.57</td>\n",
       "      <td>100.38</td>\n",
       "    </tr>\n",
       "    <tr>\n",
       "      <th>2013</th>\n",
       "      <td>8011</td>\n",
       "      <td>24,184,460.63</td>\n",
       "      <td>3,018.91</td>\n",
       "      <td>24,022,587.08</td>\n",
       "      <td>100.67</td>\n",
       "      <td>3819</td>\n",
       "      <td>1,338,837,831.00</td>\n",
       "      <td>350,572.88</td>\n",
       "      <td>1,274,343,524.80</td>\n",
       "      <td>100.67</td>\n",
       "    </tr>\n",
       "    <tr>\n",
       "      <th>2014</th>\n",
       "      <td>9708</td>\n",
       "      <td>25,276,920.60</td>\n",
       "      <td>2,603.72</td>\n",
       "      <td>25,132,084.10</td>\n",
       "      <td>100.58</td>\n",
       "      <td>3850</td>\n",
       "      <td>1,413,986,082.70</td>\n",
       "      <td>367,269.11</td>\n",
       "      <td>1,344,006,697.30</td>\n",
       "      <td>100.58</td>\n",
       "    </tr>\n",
       "    <tr>\n",
       "      <th>2015</th>\n",
       "      <td>12444</td>\n",
       "      <td>32,772,307.15</td>\n",
       "      <td>2,633.58</td>\n",
       "      <td>32,697,252.67</td>\n",
       "      <td>100.23</td>\n",
       "      <td>3651</td>\n",
       "      <td>1,262,687,210.89</td>\n",
       "      <td>345,846.95</td>\n",
       "      <td>1,210,571,886.73</td>\n",
       "      <td>100.23</td>\n",
       "    </tr>\n",
       "    <tr>\n",
       "      <th>2016</th>\n",
       "      <td>12100</td>\n",
       "      <td>35,398,718.10</td>\n",
       "      <td>2,925.51</td>\n",
       "      <td>35,333,085.58</td>\n",
       "      <td>100.19</td>\n",
       "      <td>3305</td>\n",
       "      <td>1,191,128,103.34</td>\n",
       "      <td>360,401.85</td>\n",
       "      <td>1,158,909,043.34</td>\n",
       "      <td>100.19</td>\n",
       "    </tr>\n",
       "    <tr>\n",
       "      <th>2017</th>\n",
       "      <td>11760</td>\n",
       "      <td>35,731,987.75</td>\n",
       "      <td>3,038.43</td>\n",
       "      <td>35,625,262.75</td>\n",
       "      <td>100.30</td>\n",
       "      <td>3654</td>\n",
       "      <td>1,239,300,603.83</td>\n",
       "      <td>339,162.73</td>\n",
       "      <td>1,216,710,185.83</td>\n",
       "      <td>100.30</td>\n",
       "    </tr>\n",
       "    <tr>\n",
       "      <th>2018</th>\n",
       "      <td>13928</td>\n",
       "      <td>39,527,714.70</td>\n",
       "      <td>2,838.00</td>\n",
       "      <td>39,494,951.41</td>\n",
       "      <td>100.08</td>\n",
       "      <td>4013</td>\n",
       "      <td>1,332,082,221.46</td>\n",
       "      <td>331,941.74</td>\n",
       "      <td>1,312,481,066.46</td>\n",
       "      <td>100.08</td>\n",
       "    </tr>\n",
       "    <tr>\n",
       "      <th>2019</th>\n",
       "      <td>13557</td>\n",
       "      <td>48,118,556.11</td>\n",
       "      <td>3,549.35</td>\n",
       "      <td>48,047,594.53</td>\n",
       "      <td>100.15</td>\n",
       "      <td>4011</td>\n",
       "      <td>1,435,022,703.00</td>\n",
       "      <td>357,771.80</td>\n",
       "      <td>1,424,373,813.00</td>\n",
       "      <td>100.15</td>\n",
       "    </tr>\n",
       "    <tr>\n",
       "      <th>2020</th>\n",
       "      <td>12030</td>\n",
       "      <td>41,985,008.28</td>\n",
       "      <td>3,490.03</td>\n",
       "      <td>41,910,122.89</td>\n",
       "      <td>100.18</td>\n",
       "      <td>3697</td>\n",
       "      <td>1,460,283,294.00</td>\n",
       "      <td>394,991.42</td>\n",
       "      <td>1,442,935,835.00</td>\n",
       "      <td>100.18</td>\n",
       "    </tr>\n",
       "    <tr>\n",
       "      <th>2021</th>\n",
       "      <td>10636</td>\n",
       "      <td>39,142,566.13</td>\n",
       "      <td>3,680.20</td>\n",
       "      <td>39,059,978.38</td>\n",
       "      <td>100.21</td>\n",
       "      <td>3787</td>\n",
       "      <td>2,093,374,566.00</td>\n",
       "      <td>552,779.13</td>\n",
       "      <td>2,082,113,592.00</td>\n",
       "      <td>100.21</td>\n",
       "    </tr>\n",
       "    <tr>\n",
       "      <th>2022</th>\n",
       "      <td>9915</td>\n",
       "      <td>44,686,155.20</td>\n",
       "      <td>4,506.92</td>\n",
       "      <td>44,602,625.35</td>\n",
       "      <td>100.19</td>\n",
       "      <td>3930</td>\n",
       "      <td>2,023,559,111.00</td>\n",
       "      <td>514,900.54</td>\n",
       "      <td>2,015,907,178.00</td>\n",
       "      <td>100.19</td>\n",
       "    </tr>\n",
       "  </tbody>\n",
       "</table>\n",
       "</div>"
      ],
      "text/plain": [
       "      Qtd contribuintes PF  Doação contr PF  Média_PF  Doação ded contr PF  \\\n",
       "Ano                                                                          \n",
       "2010                 19960    16,340,117.53    818.64        15,718,870.96   \n",
       "2011                 16217    19,834,848.40  1,223.09        19,271,419.03   \n",
       "2012                 16843    22,829,149.32  1,355.41        22,743,575.33   \n",
       "2013                  8011    24,184,460.63  3,018.91        24,022,587.08   \n",
       "2014                  9708    25,276,920.60  2,603.72        25,132,084.10   \n",
       "2015                 12444    32,772,307.15  2,633.58        32,697,252.67   \n",
       "2016                 12100    35,398,718.10  2,925.51        35,333,085.58   \n",
       "2017                 11760    35,731,987.75  3,038.43        35,625,262.75   \n",
       "2018                 13928    39,527,714.70  2,838.00        39,494,951.41   \n",
       "2019                 13557    48,118,556.11  3,549.35        48,047,594.53   \n",
       "2020                 12030    41,985,008.28  3,490.03        41,910,122.89   \n",
       "2021                 10636    39,142,566.13  3,680.20        39,059,978.38   \n",
       "2022                  9915    44,686,155.20  4,506.92        44,602,625.35   \n",
       "\n",
       "      % ded PF  Qtd contribuintes PJ  Doação contr PJ   Média_PJ  \\\n",
       "Ano                                                                \n",
       "2010    103.95                  3198 1,244,872,707.10 389,266.01   \n",
       "2011    102.92                  3548 1,406,539,093.80 396,431.54   \n",
       "2012    100.38                  3447 1,333,528,604.07 386,866.44   \n",
       "2013    100.67                  3819 1,338,837,831.00 350,572.88   \n",
       "2014    100.58                  3850 1,413,986,082.70 367,269.11   \n",
       "2015    100.23                  3651 1,262,687,210.89 345,846.95   \n",
       "2016    100.19                  3305 1,191,128,103.34 360,401.85   \n",
       "2017    100.30                  3654 1,239,300,603.83 339,162.73   \n",
       "2018    100.08                  4013 1,332,082,221.46 331,941.74   \n",
       "2019    100.15                  4011 1,435,022,703.00 357,771.80   \n",
       "2020    100.18                  3697 1,460,283,294.00 394,991.42   \n",
       "2021    100.21                  3787 2,093,374,566.00 552,779.13   \n",
       "2022    100.19                  3930 2,023,559,111.00 514,900.54   \n",
       "\n",
       "      Doação ded contr PJ  % ded PF  \n",
       "Ano                                  \n",
       "2010     1,143,671,557.10    103.95  \n",
       "2011     1,307,843,371.33    102.92  \n",
       "2012     1,251,476,478.57    100.38  \n",
       "2013     1,274,343,524.80    100.67  \n",
       "2014     1,344,006,697.30    100.58  \n",
       "2015     1,210,571,886.73    100.23  \n",
       "2016     1,158,909,043.34    100.19  \n",
       "2017     1,216,710,185.83    100.30  \n",
       "2018     1,312,481,066.46    100.08  \n",
       "2019     1,424,373,813.00    100.15  \n",
       "2020     1,442,935,835.00    100.18  \n",
       "2021     2,082,113,592.00    100.21  \n",
       "2022     2,015,907,178.00    100.19  "
      ]
     },
     "execution_count": 17,
     "metadata": {},
     "output_type": "execute_result"
    }
   ],
   "source": [
    "# Reorganiza as colunas\n",
    "cols = ['Qtd contribuintes PF','Doação contr PF', 'Média_PF', 'Doação ded contr PF', '% ded PF','Qtd contribuintes PJ', 'Doação contr PJ',\\\n",
    "        'Média_PJ','Doação ded contr PJ', '% ded PF']\n",
    "doa_pc = doa_pc[cols]\n",
    "doa_pc"
   ]
  },
  {
   "cell_type": "code",
   "execution_count": 18,
   "id": "37cb10f4-e2a8-45db-8843-ad7b150c6d0a",
   "metadata": {},
   "outputs": [
    {
     "data": {
      "text/plain": [
       "<AxesSubplot: xlabel='Ano'>"
      ]
     },
     "execution_count": 18,
     "metadata": {},
     "output_type": "execute_result"
    },
    {
     "data": {
      "image/png": "[encoded data removed]",
      "text/plain": [
       "<Figure size 640x480 with 1 Axes>"
      ]
     },
     "metadata": {},
     "output_type": "display_data"
    }
   ],
   "source": [
    "# Gráfico comparativo entre quantidades - PF e PJ\n",
    "qt = doa_pc[['Qtd contribuintes PF', 'Qtd contribuintes PJ']]\n",
    "qt.plot.bar()"
   ]
  },
  {
   "cell_type": "code",
   "execution_count": 19,
   "id": "02899c66-ba72-4c26-a7a0-ab14b9ac9d22",
   "metadata": {},
   "outputs": [
    {
     "data": {
      "text/plain": [
       "<AxesSubplot: xlabel='Ano', ylabel='Doação, em R$ milhões'>"
      ]
     },
     "execution_count": 19,
     "metadata": {},
     "output_type": "execute_result"
    },
    {
     "data": {
      "image/png": "[encoded data removed]",
      "text/plain": [
       "<Figure size 640x480 with 1 Axes>"
      ]
     },
     "metadata": {},
     "output_type": "display_data"
    }
   ],
   "source": [
    "# Gráfico comparativo entre doações - PF e PJ\n",
    "vl_doa = doa_pc[['Doação contr PF', 'Doação contr PJ']]/1000000\n",
    "vl_doa.plot.bar(ylabel='Doação, em R$ milhões')"
   ]
  },
  {
   "cell_type": "code",
   "execution_count": 20,
   "id": "59f5f9d9-413f-43a1-83d3-11afd88bf631",
   "metadata": {},
   "outputs": [
    {
     "data": {
      "text/plain": [
       "<AxesSubplot: xlabel='Ano'>"
      ]
     },
     "execution_count": 20,
     "metadata": {},
     "output_type": "execute_result"
    },
    {
     "data": {
      "image/png": "[encoded data removed]",
      "text/plain": [
       "<Figure size 640x480 with 1 Axes>"
      ]
     },
     "metadata": {},
     "output_type": "display_data"
    }
   ],
   "source": [
    "# Gráfico comparativo entre doações médias - PF e PJ\n",
    "med_doa = doa_pc[['Média_PF','Média_PJ']]\n",
    "med_doa.plot.bar()"
   ]
  },
  {
   "cell_type": "code",
   "execution_count": 21,
   "id": "01112ea7-7328-4d4e-b0bf-4f0f84154f25",
   "metadata": {},
   "outputs": [
    {
     "data": {
      "text/html": [
       "<div>\n",
       "<style scoped>\n",
       "    .dataframe tbody tr th:only-of-type {\n",
       "        vertical-align: middle;\n",
       "    }\n",
       "\n",
       "    .dataframe tbody tr th {\n",
       "        vertical-align: top;\n",
       "    }\n",
       "\n",
       "    .dataframe thead th {\n",
       "        text-align: right;\n",
       "    }\n",
       "</style>\n",
       "<table border=\"1\" class=\"dataframe\">\n",
       "  <thead>\n",
       "    <tr style=\"text-align: right;\">\n",
       "      <th></th>\n",
       "      <th>Ano</th>\n",
       "      <th>Qtd contribuintes PF</th>\n",
       "      <th>Doação contr PF</th>\n",
       "      <th>Doação ded contr PF</th>\n",
       "      <th>Qtd contribuintes PJ</th>\n",
       "      <th>Doação contr PJ</th>\n",
       "      <th>Doação ded contr PJ</th>\n",
       "    </tr>\n",
       "  </thead>\n",
       "  <tbody>\n",
       "    <tr>\n",
       "      <th>0</th>\n",
       "      <td>2013</td>\n",
       "      <td>7918</td>\n",
       "      <td>22,327,129.18</td>\n",
       "      <td>22,165,255.63</td>\n",
       "      <td>3472</td>\n",
       "      <td>1,238,482,632.00</td>\n",
       "      <td>1,174,112,563.00</td>\n",
       "    </tr>\n",
       "    <tr>\n",
       "      <th>1</th>\n",
       "      <td>2011</td>\n",
       "      <td>15965</td>\n",
       "      <td>18,555,172.55</td>\n",
       "      <td>17,991,743.18</td>\n",
       "      <td>3276</td>\n",
       "      <td>1,306,370,674.00</td>\n",
       "      <td>1,208,028,729.00</td>\n",
       "    </tr>\n",
       "    <tr>\n",
       "      <th>2</th>\n",
       "      <td>2015</td>\n",
       "      <td>12386</td>\n",
       "      <td>31,492,447.23</td>\n",
       "      <td>31,417,392.75</td>\n",
       "      <td>3388</td>\n",
       "      <td>1,172,356,631.00</td>\n",
       "      <td>1,120,384,733.00</td>\n",
       "    </tr>\n",
       "    <tr>\n",
       "      <th>3</th>\n",
       "      <td>2017</td>\n",
       "      <td>11731</td>\n",
       "      <td>35,121,976.22</td>\n",
       "      <td>35,015,251.22</td>\n",
       "      <td>3356</td>\n",
       "      <td>1,154,264,383.00</td>\n",
       "      <td>1,131,841,965.00</td>\n",
       "    </tr>\n",
       "    <tr>\n",
       "      <th>4</th>\n",
       "      <td>2018</td>\n",
       "      <td>13887</td>\n",
       "      <td>38,254,105.39</td>\n",
       "      <td>38,221,342.10</td>\n",
       "      <td>3740</td>\n",
       "      <td>1,257,727,962.00</td>\n",
       "      <td>1,238,210,807.00</td>\n",
       "    </tr>\n",
       "    <tr>\n",
       "      <th>5</th>\n",
       "      <td>2019</td>\n",
       "      <td>13557</td>\n",
       "      <td>48,118,556.11</td>\n",
       "      <td>48,047,594.53</td>\n",
       "      <td>4011</td>\n",
       "      <td>1,435,022,703.00</td>\n",
       "      <td>1,424,373,813.00</td>\n",
       "    </tr>\n",
       "    <tr>\n",
       "      <th>6</th>\n",
       "      <td>2020</td>\n",
       "      <td>12030</td>\n",
       "      <td>41,985,008.28</td>\n",
       "      <td>41,910,122.89</td>\n",
       "      <td>3697</td>\n",
       "      <td>1,460,283,294.00</td>\n",
       "      <td>1,442,935,835.00</td>\n",
       "    </tr>\n",
       "    <tr>\n",
       "      <th>7</th>\n",
       "      <td>2021</td>\n",
       "      <td>10636</td>\n",
       "      <td>39,142,566.13</td>\n",
       "      <td>39,059,978.38</td>\n",
       "      <td>3787</td>\n",
       "      <td>2,093,374,566.00</td>\n",
       "      <td>2,082,113,592.00</td>\n",
       "    </tr>\n",
       "    <tr>\n",
       "      <th>8</th>\n",
       "      <td>2022</td>\n",
       "      <td>9915</td>\n",
       "      <td>44,686,155.20</td>\n",
       "      <td>44,602,625.35</td>\n",
       "      <td>3930</td>\n",
       "      <td>2,023,559,111.00</td>\n",
       "      <td>2,015,907,178.00</td>\n",
       "    </tr>\n",
       "    <tr>\n",
       "      <th>9</th>\n",
       "      <td>2010</td>\n",
       "      <td>19867</td>\n",
       "      <td>15,854,013.53</td>\n",
       "      <td>15,232,766.96</td>\n",
       "      <td>2921</td>\n",
       "      <td>1,147,128,252.00</td>\n",
       "      <td>1,046,118,405.00</td>\n",
       "    </tr>\n",
       "    <tr>\n",
       "      <th>10</th>\n",
       "      <td>2012</td>\n",
       "      <td>16594</td>\n",
       "      <td>22,297,887.52</td>\n",
       "      <td>22,212,313.53</td>\n",
       "      <td>3216</td>\n",
       "      <td>1,253,462,729.00</td>\n",
       "      <td>1,171,924,547.00</td>\n",
       "    </tr>\n",
       "    <tr>\n",
       "      <th>11</th>\n",
       "      <td>2016</td>\n",
       "      <td>12057</td>\n",
       "      <td>34,301,914.87</td>\n",
       "      <td>34,236,282.35</td>\n",
       "      <td>3062</td>\n",
       "      <td>1,110,571,784.00</td>\n",
       "      <td>1,078,492,724.00</td>\n",
       "    </tr>\n",
       "    <tr>\n",
       "      <th>12</th>\n",
       "      <td>2014</td>\n",
       "      <td>9652</td>\n",
       "      <td>24,789,603.60</td>\n",
       "      <td>24,644,767.10</td>\n",
       "      <td>3506</td>\n",
       "      <td>1,309,952,089.00</td>\n",
       "      <td>1,240,272,427.00</td>\n",
       "    </tr>\n",
       "    <tr>\n",
       "      <th>13</th>\n",
       "      <td>2016</td>\n",
       "      <td>43</td>\n",
       "      <td>1,096,803.23</td>\n",
       "      <td>1,096,803.23</td>\n",
       "      <td>243</td>\n",
       "      <td>80,556,319.34</td>\n",
       "      <td>80,416,319.34</td>\n",
       "    </tr>\n",
       "    <tr>\n",
       "      <th>14</th>\n",
       "      <td>2014</td>\n",
       "      <td>56</td>\n",
       "      <td>487,317.00</td>\n",
       "      <td>487,317.00</td>\n",
       "      <td>344</td>\n",
       "      <td>104,033,993.70</td>\n",
       "      <td>103,734,270.30</td>\n",
       "    </tr>\n",
       "    <tr>\n",
       "      <th>15</th>\n",
       "      <td>2015</td>\n",
       "      <td>58</td>\n",
       "      <td>1,279,859.92</td>\n",
       "      <td>1,279,859.92</td>\n",
       "      <td>263</td>\n",
       "      <td>90,330,579.89</td>\n",
       "      <td>90,187,153.73</td>\n",
       "    </tr>\n",
       "    <tr>\n",
       "      <th>16</th>\n",
       "      <td>2018</td>\n",
       "      <td>41</td>\n",
       "      <td>1,273,609.31</td>\n",
       "      <td>1,273,609.31</td>\n",
       "      <td>273</td>\n",
       "      <td>74,354,259.46</td>\n",
       "      <td>74,270,259.46</td>\n",
       "    </tr>\n",
       "    <tr>\n",
       "      <th>17</th>\n",
       "      <td>2017</td>\n",
       "      <td>29</td>\n",
       "      <td>610,011.53</td>\n",
       "      <td>610,011.53</td>\n",
       "      <td>298</td>\n",
       "      <td>85,036,220.83</td>\n",
       "      <td>84,868,220.83</td>\n",
       "    </tr>\n",
       "    <tr>\n",
       "      <th>18</th>\n",
       "      <td>2010</td>\n",
       "      <td>93</td>\n",
       "      <td>486,104.00</td>\n",
       "      <td>486,104.00</td>\n",
       "      <td>277</td>\n",
       "      <td>97,744,455.10</td>\n",
       "      <td>97,553,152.10</td>\n",
       "    </tr>\n",
       "    <tr>\n",
       "      <th>19</th>\n",
       "      <td>2011</td>\n",
       "      <td>252</td>\n",
       "      <td>1,279,675.85</td>\n",
       "      <td>1,279,675.85</td>\n",
       "      <td>272</td>\n",
       "      <td>100,168,419.80</td>\n",
       "      <td>99,814,642.33</td>\n",
       "    </tr>\n",
       "    <tr>\n",
       "      <th>20</th>\n",
       "      <td>2012</td>\n",
       "      <td>249</td>\n",
       "      <td>531,261.80</td>\n",
       "      <td>531,261.80</td>\n",
       "      <td>231</td>\n",
       "      <td>80,065,875.07</td>\n",
       "      <td>79,551,931.57</td>\n",
       "    </tr>\n",
       "    <tr>\n",
       "      <th>21</th>\n",
       "      <td>2013</td>\n",
       "      <td>93</td>\n",
       "      <td>1,857,331.45</td>\n",
       "      <td>1,857,331.45</td>\n",
       "      <td>347</td>\n",
       "      <td>100,355,199.00</td>\n",
       "      <td>100,230,961.80</td>\n",
       "    </tr>\n",
       "  </tbody>\n",
       "</table>\n",
       "</div>"
      ],
      "text/plain": [
       "     Ano  Qtd contribuintes PF  Doação contr PF  Doação ded contr PF  \\\n",
       "0   2013                  7918    22,327,129.18        22,165,255.63   \n",
       "1   2011                 15965    18,555,172.55        17,991,743.18   \n",
       "2   2015                 12386    31,492,447.23        31,417,392.75   \n",
       "3   2017                 11731    35,121,976.22        35,015,251.22   \n",
       "4   2018                 13887    38,254,105.39        38,221,342.10   \n",
       "5   2019                 13557    48,118,556.11        48,047,594.53   \n",
       "6   2020                 12030    41,985,008.28        41,910,122.89   \n",
       "7   2021                 10636    39,142,566.13        39,059,978.38   \n",
       "8   2022                  9915    44,686,155.20        44,602,625.35   \n",
       "9   2010                 19867    15,854,013.53        15,232,766.96   \n",
       "10  2012                 16594    22,297,887.52        22,212,313.53   \n",
       "11  2016                 12057    34,301,914.87        34,236,282.35   \n",
       "12  2014                  9652    24,789,603.60        24,644,767.10   \n",
       "13  2016                    43     1,096,803.23         1,096,803.23   \n",
       "14  2014                    56       487,317.00           487,317.00   \n",
       "15  2015                    58     1,279,859.92         1,279,859.92   \n",
       "16  2018                    41     1,273,609.31         1,273,609.31   \n",
       "17  2017                    29       610,011.53           610,011.53   \n",
       "18  2010                    93       486,104.00           486,104.00   \n",
       "19  2011                   252     1,279,675.85         1,279,675.85   \n",
       "20  2012                   249       531,261.80           531,261.80   \n",
       "21  2013                    93     1,857,331.45         1,857,331.45   \n",
       "\n",
       "    Qtd contribuintes PJ  Doação contr PJ  Doação ded contr PJ  \n",
       "0                   3472 1,238,482,632.00     1,174,112,563.00  \n",
       "1                   3276 1,306,370,674.00     1,208,028,729.00  \n",
       "2                   3388 1,172,356,631.00     1,120,384,733.00  \n",
       "3                   3356 1,154,264,383.00     1,131,841,965.00  \n",
       "4                   3740 1,257,727,962.00     1,238,210,807.00  \n",
       "5                   4011 1,435,022,703.00     1,424,373,813.00  \n",
       "6                   3697 1,460,283,294.00     1,442,935,835.00  \n",
       "7                   3787 2,093,374,566.00     2,082,113,592.00  \n",
       "8                   3930 2,023,559,111.00     2,015,907,178.00  \n",
       "9                   2921 1,147,128,252.00     1,046,118,405.00  \n",
       "10                  3216 1,253,462,729.00     1,171,924,547.00  \n",
       "11                  3062 1,110,571,784.00     1,078,492,724.00  \n",
       "12                  3506 1,309,952,089.00     1,240,272,427.00  \n",
       "13                   243    80,556,319.34        80,416,319.34  \n",
       "14                   344   104,033,993.70       103,734,270.30  \n",
       "15                   263    90,330,579.89        90,187,153.73  \n",
       "16                   273    74,354,259.46        74,270,259.46  \n",
       "17                   298    85,036,220.83        84,868,220.83  \n",
       "18                   277    97,744,455.10        97,553,152.10  \n",
       "19                   272   100,168,419.80        99,814,642.33  \n",
       "20                   231    80,065,875.07        79,551,931.57  \n",
       "21                   347   100,355,199.00       100,230,961.80  "
      ]
     },
     "execution_count": 21,
     "metadata": {},
     "output_type": "execute_result"
    }
   ],
   "source": [
    "dbf_doa_proj_cul"
   ]
  },
  {
   "cell_type": "markdown",
   "id": "1b69acf7-9e90-43c2-bc48-ec73a54b8382",
   "metadata": {},
   "source": [
    "### 2.6. Juntada das bases de doações e do PIB por ano <br><br>"
   ]
  },
  {
   "cell_type": "code",
   "execution_count": 22,
   "id": "5c485185-476a-4fa1-abab-66d864d592da",
   "metadata": {},
   "outputs": [
    {
     "data": {
      "text/html": [
       "<div>\n",
       "<style scoped>\n",
       "    .dataframe tbody tr th:only-of-type {\n",
       "        vertical-align: middle;\n",
       "    }\n",
       "\n",
       "    .dataframe tbody tr th {\n",
       "        vertical-align: top;\n",
       "    }\n",
       "\n",
       "    .dataframe thead th {\n",
       "        text-align: right;\n",
       "    }\n",
       "</style>\n",
       "<table border=\"1\" class=\"dataframe\">\n",
       "  <thead>\n",
       "    <tr style=\"text-align: right;\">\n",
       "      <th></th>\n",
       "      <th>ANO</th>\n",
       "      <th>PIB</th>\n",
       "      <th>vl_total_doacao</th>\n",
       "      <th>vl_total_doacao_milhoes</th>\n",
       "      <th>%_PIB_doacoes</th>\n",
       "    </tr>\n",
       "  </thead>\n",
       "  <tbody>\n",
       "    <tr>\n",
       "      <th>0</th>\n",
       "      <td>2010</td>\n",
       "      <td>3,885,847.00</td>\n",
       "      <td>1,165,872,001.74</td>\n",
       "      <td>1,165.87</td>\n",
       "      <td>0.03</td>\n",
       "    </tr>\n",
       "    <tr>\n",
       "      <th>1</th>\n",
       "      <td>2011</td>\n",
       "      <td>4,376,382.00</td>\n",
       "      <td>1,330,047,539.21</td>\n",
       "      <td>1,330.05</td>\n",
       "      <td>0.03</td>\n",
       "    </tr>\n",
       "    <tr>\n",
       "      <th>2</th>\n",
       "      <td>2012</td>\n",
       "      <td>4,814,760.00</td>\n",
       "      <td>1,277,927,822.01</td>\n",
       "      <td>1,277.93</td>\n",
       "      <td>0.03</td>\n",
       "    </tr>\n",
       "    <tr>\n",
       "      <th>3</th>\n",
       "      <td>2013</td>\n",
       "      <td>5,331,619.00</td>\n",
       "      <td>1,261,392,243.19</td>\n",
       "      <td>1,261.39</td>\n",
       "      <td>0.02</td>\n",
       "    </tr>\n",
       "    <tr>\n",
       "      <th>4</th>\n",
       "      <td>2014</td>\n",
       "      <td>5,778,953.00</td>\n",
       "      <td>1,336,379,868.68</td>\n",
       "      <td>1,336.38</td>\n",
       "      <td>0.02</td>\n",
       "    </tr>\n",
       "    <tr>\n",
       "      <th>5</th>\n",
       "      <td>2015</td>\n",
       "      <td>5,995,787.00</td>\n",
       "      <td>1,205,623,972.86</td>\n",
       "      <td>1,205.62</td>\n",
       "      <td>0.02</td>\n",
       "    </tr>\n",
       "    <tr>\n",
       "      <th>6</th>\n",
       "      <td>2016</td>\n",
       "      <td>6,269,328.00</td>\n",
       "      <td>1,146,424,698.75</td>\n",
       "      <td>1,146.42</td>\n",
       "      <td>0.02</td>\n",
       "    </tr>\n",
       "    <tr>\n",
       "      <th>7</th>\n",
       "      <td>2017</td>\n",
       "      <td>6,585,479.00</td>\n",
       "      <td>1,189,635,059.02</td>\n",
       "      <td>1,189.64</td>\n",
       "      <td>0.02</td>\n",
       "    </tr>\n",
       "    <tr>\n",
       "      <th>8</th>\n",
       "      <td>2018</td>\n",
       "      <td>7,004,141.00</td>\n",
       "      <td>1,296,122,567.51</td>\n",
       "      <td>1,296.12</td>\n",
       "      <td>0.02</td>\n",
       "    </tr>\n",
       "    <tr>\n",
       "      <th>9</th>\n",
       "      <td>2019</td>\n",
       "      <td>7,389,131.00</td>\n",
       "      <td>1,483,220,758.90</td>\n",
       "      <td>1,483.22</td>\n",
       "      <td>0.02</td>\n",
       "    </tr>\n",
       "    <tr>\n",
       "      <th>10</th>\n",
       "      <td>2020</td>\n",
       "      <td>7,609,597.00</td>\n",
       "      <td>1,502,271,102.46</td>\n",
       "      <td>1,502.27</td>\n",
       "      <td>0.02</td>\n",
       "    </tr>\n",
       "    <tr>\n",
       "      <th>11</th>\n",
       "      <td>2021</td>\n",
       "      <td>9,012,142.00</td>\n",
       "      <td>2,132,517,131.94</td>\n",
       "      <td>2,132.52</td>\n",
       "      <td>0.02</td>\n",
       "    </tr>\n",
       "    <tr>\n",
       "      <th>12</th>\n",
       "      <td>2022</td>\n",
       "      <td>10,079,677.00</td>\n",
       "      <td>2,099,930,272.54</td>\n",
       "      <td>2,099.93</td>\n",
       "      <td>0.02</td>\n",
       "    </tr>\n",
       "  </tbody>\n",
       "</table>\n",
       "</div>"
      ],
      "text/plain": [
       "     ANO           PIB  vl_total_doacao  vl_total_doacao_milhoes  \\\n",
       "0   2010  3,885,847.00 1,165,872,001.74                 1,165.87   \n",
       "1   2011  4,376,382.00 1,330,047,539.21                 1,330.05   \n",
       "2   2012  4,814,760.00 1,277,927,822.01                 1,277.93   \n",
       "3   2013  5,331,619.00 1,261,392,243.19                 1,261.39   \n",
       "4   2014  5,778,953.00 1,336,379,868.68                 1,336.38   \n",
       "5   2015  5,995,787.00 1,205,623,972.86                 1,205.62   \n",
       "6   2016  6,269,328.00 1,146,424,698.75                 1,146.42   \n",
       "7   2017  6,585,479.00 1,189,635,059.02                 1,189.64   \n",
       "8   2018  7,004,141.00 1,296,122,567.51                 1,296.12   \n",
       "9   2019  7,389,131.00 1,483,220,758.90                 1,483.22   \n",
       "10  2020  7,609,597.00 1,502,271,102.46                 1,502.27   \n",
       "11  2021  9,012,142.00 2,132,517,131.94                 2,132.52   \n",
       "12  2022 10,079,677.00 2,099,930,272.54                 2,099.93   \n",
       "\n",
       "    %_PIB_doacoes  \n",
       "0            0.03  \n",
       "1            0.03  \n",
       "2            0.03  \n",
       "3            0.02  \n",
       "4            0.02  \n",
       "5            0.02  \n",
       "6            0.02  \n",
       "7            0.02  \n",
       "8            0.02  \n",
       "9            0.02  \n",
       "10           0.02  \n",
       "11           0.02  \n",
       "12           0.02  "
      ]
     },
     "execution_count": 22,
     "metadata": {},
     "output_type": "execute_result"
    }
   ],
   "source": [
    "# Leitura do arquivo de PIB por ano\n",
    "pib = pd.read_csv('DBF/pib1022.csv',sep=\";\",dtype={'ANO': int, 'PIB': float})\n",
    "# Juntada das doações por ano\n",
    "pib_doacoes=pib.merge(vls_doados_ano, left_on='ANO', right_on='ano_cal')\n",
    "pib_doacoes['%_PIB_doacoes'] = ((pib_doacoes['vl_total_doacao_milhoes']/pib_doacoes['PIB'])*100)\n",
    "pib_doacoes"
   ]
  },
  {
   "cell_type": "code",
   "execution_count": 23,
   "id": "5df05151-8c46-40cd-a558-d026e3b5d85f",
   "metadata": {},
   "outputs": [
    {
     "data": {
      "image/png": "[encoded data removed]",
      "text/plain": [
       "<Figure size 640x480 with 2 Axes>"
      ]
     },
     "metadata": {},
     "output_type": "display_data"
    }
   ],
   "source": [
    "fig = plt.figure()\n",
    "ax = fig.add_subplot(111)\n",
    "ax.plot(pib_doacoes['ANO'], pib_doacoes['PIB'], color = 'blue', label='PIB')\n",
    "ax.set_xlabel('Ano')\n",
    "ax.set_ylabel('PIB, em R$ milhões')\n",
    "ax2 = ax.twinx()\n",
    "ax2.plot(pib_doacoes['ANO'], pib_doacoes['vl_total_doacao_milhoes'], color = 'red', label='Doações')\n",
    "ax2.set_xlabel('Ano')\n",
    "ax2.set_ylabel('Doações, em R$ milhões')\n",
    "ax.legend(loc=0)\n",
    "ax2.legend(loc=1)\n",
    "ax.ticklabel_format(style='plain')\n",
    "plt.show()"
   ]
  },
  {
   "cell_type": "code",
   "execution_count": 24,
   "id": "0d19ac4a-1187-4d6a-a1ad-33861869fc9d",
   "metadata": {},
   "outputs": [
    {
     "data": {
      "image/png": "[encoded data removed]",
      "text/plain": [
       "<Figure size 640x480 with 1 Axes>"
      ]
     },
     "metadata": {},
     "output_type": "display_data"
    }
   ],
   "source": [
    "plt.plot(pib_doacoes['ANO'], pib_doacoes['%_PIB_doacoes'])\n",
    "plt.xlabel('Ano')\n",
    "plt.ylabel('% do PIB')\n",
    "plt.title('Doações em % do PIB, por ano')\n",
    "plt.show()"
   ]
  },
  {
   "cell_type": "markdown",
   "id": "81e43b96-bf12-4ce2-9cc8-b82159c72e2d",
   "metadata": {},
   "source": [
    "### 2.7. Visualizando o relacionamento entre PIB, arrecadação de IR, e doações"
   ]
  },
  {
   "cell_type": "code",
   "execution_count": 25,
   "id": "0ff5b2c7-4cc4-4692-8f50-e86805517234",
   "metadata": {},
   "outputs": [],
   "source": [
    "# Cria colunas com o PIB em R$ trilhões e as doações em R$ bilhões\n",
    "pib_doacoes['PIB_trilhoes'] = pib_doacoes['PIB']/1000000\n",
    "pib_doacoes['doacoes_bilhoes'] = pib_doacoes['vl_total_doacao_milhoes']/1000"
   ]
  },
  {
   "cell_type": "code",
   "execution_count": 26,
   "id": "4b9c923c-132c-4f8d-ae88-859876134672",
   "metadata": {},
   "outputs": [
    {
     "ename": "ModuleNotFoundError",
     "evalue": "No module named 'seaborn'",
     "output_type": "error",
     "traceback": [
      "\u001b[1;31m---------------------------------------------------------------------------\u001b[0m",
      "\u001b[1;31mModuleNotFoundError\u001b[0m                       Traceback (most recent call last)",
      "Cell \u001b[1;32mIn[26], line 2\u001b[0m\n\u001b[0;32m      1\u001b[0m \u001b[38;5;66;03m# Gráfico de dispersão - PIB e valor das doações\u001b[39;00m\n\u001b[1;32m----> 2\u001b[0m \u001b[38;5;28;01mimport\u001b[39;00m \u001b[38;5;21;01mseaborn\u001b[39;00m \u001b[38;5;28;01mas\u001b[39;00m \u001b[38;5;21;01msns\u001b[39;00m\n\u001b[0;32m      4\u001b[0m sns\u001b[38;5;241m.\u001b[39mlmplot(x\u001b[38;5;241m=\u001b[39m\u001b[38;5;124m'\u001b[39m\u001b[38;5;124mPIB_trilhoes\u001b[39m\u001b[38;5;124m'\u001b[39m, y\u001b[38;5;241m=\u001b[39m\u001b[38;5;124m'\u001b[39m\u001b[38;5;124mdoacoes_bilhoes\u001b[39m\u001b[38;5;124m'\u001b[39m, data \u001b[38;5;241m=\u001b[39m pib_doacoes, ci \u001b[38;5;241m=\u001b[39m \u001b[38;5;28;01mNone\u001b[39;00m)\n\u001b[0;32m      5\u001b[0m plt\u001b[38;5;241m.\u001b[39mshow()\n",
      "\u001b[1;31mModuleNotFoundError\u001b[0m: No module named 'seaborn'"
     ]
    }
   ],
   "source": [
    "# Gráfico de dispersão - PIB e valor das doações\n",
    "import seaborn as sns\n",
    "\n",
    "sns.lmplot(x='PIB_trilhoes', y='doacoes_bilhoes', data = pib_doacoes, ci = None)\n",
    "plt.show()"
   ]
  },
  {
   "cell_type": "code",
   "execution_count": null,
   "id": "1766c1a3-4736-42df-9ec7-e9a5b338ac76",
   "metadata": {},
   "outputs": [],
   "source": [
    "# Cálculo da correlação\n",
    "pib_doacoes['PIB_trilhoes'].corr(pib_doacoes['doacoes_bilhoes'])"
   ]
  },
  {
   "cell_type": "markdown",
   "id": "65a644bd-63a6-48d9-a695-07eef731c382",
   "metadata": {},
   "source": [
    "Observa-se que há uma correlação alta (acima de 0,70) entre o PIB e o valor total das doações. Pelo gráfico de dispersão, porém, pode-se notar que há vários pontos longe da reta de tendência, de modo que podemos dizer que a correlação entre ambas as variáveis, apesar de forte, pode não ser adequada para previsões."
   ]
  },
  {
   "cell_type": "code",
   "execution_count": null,
   "id": "4395ba7f-eae9-47f8-810d-77b964fa24de",
   "metadata": {},
   "outputs": [],
   "source": [
    "# Importação dos dados da arrecadação do IR\n",
    "ir = pd.read_csv('DBF/Arrecadacao IR Milhoes.csv')\n",
    "ir_doacoes = ir.merge(vls_doados_ano, left_on='Ano', right_on='ano_cal')\n",
    "# Cria coluna com os valores do IR em R$ bilhões\n",
    "ir_doacoes['IR_bilhoes'] = ir_doacoes['Arrecadacao IR Milhoes']/1000\n",
    "# Cria coluna com os valores das doações em R$ bilhões\n",
    "ir_doacoes['doacoes_bilhoes'] = ir_doacoes['vl_total_doacao_milhoes']/1000\n",
    "#Gráfico de dispersão - Arrecadacao do IR e doações\n",
    "sns.lmplot(x='IR_bilhoes', y='doacoes_bilhoes', data=ir_doacoes, ci=None)\n",
    "plt.show()"
   ]
  },
  {
   "cell_type": "code",
   "execution_count": null,
   "id": "49e758a7-ff49-4252-929c-4128cbfa40b4",
   "metadata": {},
   "outputs": [],
   "source": [
    "# Cálculo da correlação\n",
    "ir_doacoes['IR_bilhoes'].corr(ir_doacoes['doacoes_bilhoes'])"
   ]
  },
  {
   "cell_type": "markdown",
   "id": "b1aafccd-39e5-4de1-ac8f-83f0b8c4c8f3",
   "metadata": {},
   "source": [
    "Observa-se que há uma correlação alta (acima de 0,70) entre a arrecadação de IR e o valor total das doações. Pelo gráfico de dispersão, porém, pode-se notar que há vários pontos longe da reta de tendência, de modo que podemos dizer que a correlação entre ambas as variáveis, apesar de forte, pode não ser adequada para previsões."
   ]
  },
  {
   "cell_type": "markdown",
   "id": "304eb21a-3de6-44f2-a171-f6336dda4481",
   "metadata": {},
   "source": [
    "### 2.8. Juntada dos dados de PIB por município"
   ]
  },
  {
   "cell_type": "markdown",
   "id": "bd758f03-ef68-4642-996b-cca9524830e2",
   "metadata": {},
   "source": [
    "#### 2.8.1. Leitura do arquivo de PIB municipal"
   ]
  },
  {
   "cell_type": "code",
   "execution_count": null,
   "id": "afe7fb98",
   "metadata": {},
   "outputs": [],
   "source": [
    "# Leitura do arquivo contendo os dados do PIB dos anos de 2010 a 2021, por município\n",
    "pibmun = pd.read_csv(\"DBF/Pib_municipios_2010_2021.csv\", sep=\";\", thousands='.', usecols=[0,1,4,5], \n",
    "                                names = [\"Ano\", \"UF\", \"munic\", \"PIB_em_milhares\"], dtype={'Ano': 'int64', 'UF': 'str', 'munic':\n",
    "                                                                              'str', 'PIB': 'int64'}, header=0)\n",
    "# Cria coluna com os valores em milhares de reais\n",
    "pibmun['PIB'] = pibmun['PIB_em_milhares']*1000\n",
    "\n",
    "# Cria coluna com o município e a UF\n",
    "pibmun[\"ano_mun\"] = pibmun[\"Ano\"].astype(str) + \" - \" + pibmun[\"munic\"] + \" - \" + pibmun[\"UF\"]\n",
    "\n",
    "#Remove as colunas de município, UF e PIB em milhares\n",
    "pibmun.drop(['UF','munic','PIB_em_milhares'], axis=1, inplace = True)\n",
    "print(pibmun)\n",
    "print(pibmun.info())"
   ]
  },
  {
   "cell_type": "markdown",
   "id": "b122396e-253e-4595-b65d-c32c56250ca0",
   "metadata": {},
   "source": [
    "#### 2.8.2. Juntada com os arquivos de doações e de beneficiários"
   ]
  },
  {
   "cell_type": "code",
   "execution_count": null,
   "id": "4b2c771d-e98c-4e83-8203-deec80338d2d",
   "metadata": {},
   "outputs": [],
   "source": [
    "# Cria coluna com o ano, município e UF nas tabelas de doações e de beneficiários\n",
    "doacoes['ano_mun'] = doacoes['ano_cal'].astype(str) + \" - \" + doacoes['munic_doador']\n",
    "benef['ano_mun'] = benef['ano_cal'].astype(str) + \" - \" + benef['munic_beneficiario']\n",
    "print(doacoes)\n",
    "print(benef)"
   ]
  },
  {
   "cell_type": "code",
   "execution_count": null,
   "id": "e974b221-0bdb-4fa1-b634-60c5d056f03c",
   "metadata": {
    "scrolled": true
   },
   "outputs": [],
   "source": [
    "# Juntada dos dados do PIB municipal, por ano\n",
    "doapibmun = doacoes.merge(pibmun, on=\"ano_mun\", how='left')\n",
    "benpibmun = benef.merge(pibmun, on=\"ano_mun\", how='left')\n",
    "print(doapibmun.head())\n",
    "print(benpibmun.head())"
   ]
  },
  {
   "cell_type": "markdown",
   "id": "d64c6384-a418-4f61-8de1-028f4378039f",
   "metadata": {},
   "source": [
    "#### 2.8.3. Tratamento dos valores ausentes"
   ]
  },
  {
   "cell_type": "code",
   "execution_count": null,
   "id": "adb68442-7d03-482b-a9f7-a25cb7be0ab8",
   "metadata": {},
   "outputs": [],
   "source": [
    "# Verifica se há valores ausentes\n",
    "print(doapibmun.info())\n",
    "print(benpibmun.info())"
   ]
  },
  {
   "cell_type": "markdown",
   "id": "1327de0a-2eb8-46fa-a8f9-95d85262bbc3",
   "metadata": {},
   "source": [
    "Na tabela com os dados de doações, há 937 (14.182 - 13.245) valores nulos, nas colunas 'Ano' e 'PIB', as quais foram obtidas da tabela do PIB municipal. \n",
    "Na tabela com os dados de beneficiários, há 499 (5.787 - 5.288) valores nulos, nas mesmas colunas.\n",
    "Vamos verificar esses valores, para decidir a melhor abordagem para seu tratamento."
   ]
  },
  {
   "cell_type": "code",
   "execution_count": null,
   "id": "fb897cb1-9c86-4350-9102-b50ad0e1f20c",
   "metadata": {},
   "outputs": [],
   "source": [
    "# Seleciona os valores nulos na coluna 'Ano', na base doapibmun\n",
    "doanan = doapibmun[doapibmun['Ano'].isna()]\n",
    "doanan"
   ]
  },
  {
   "cell_type": "code",
   "execution_count": null,
   "id": "a46acc1f-7a29-4068-9e5b-3b09876f8aed",
   "metadata": {},
   "outputs": [],
   "source": [
    "# Seleciona os valores nulos na coluna 'Ano', na base benpibmun\n",
    "bennan = benpibmun[benpibmun['Ano'].isna()]\n",
    "bennan"
   ]
  },
  {
   "cell_type": "markdown",
   "id": "a1711966-c982-4fb9-ab0e-6808a51fa2ad",
   "metadata": {},
   "source": [
    "Observa-se que, tanto na base de doações quanto na de beneficiários, há valores de 2022, em que não temos os dados do PIB, além de registros de anos anteriores, sendo que nestes a região do doador ou do beneficiário é \"Exterior\". Vamos verificar quantos registros há com cada uma dessas características."
   ]
  },
  {
   "cell_type": "code",
   "execution_count": null,
   "id": "351e8a0e-7a7a-4283-a706-91e92d29df04",
   "metadata": {
    "scrolled": true
   },
   "outputs": [],
   "source": [
    "extdoa = doapibmun[doapibmun['regiao_doador']=='Exterior']\n",
    "print('Registros do Exterior - tabela de doações:', extdoa.shape, 'linhas x colunas')\n",
    "extben = benpibmun[benpibmun['regiao_benef']=='Exterior']\n",
    "print('Registros do Exterior - tabela de beneficiários:', extben.shape, 'linhas x colunas')\n",
    "doa22 = doapibmun[doapibmun['ano_cal']==2022]\n",
    "print('Registros de 2022 - tabela de doações:', doa22.shape, 'linhas x colunas')\n",
    "ben22 = benpibmun[benpibmun['ano_cal']==2022]\n",
    "print('Registros de 2022 - tabela de beneficiários:', ben22.shape, 'linhas x colunas')"
   ]
  },
  {
   "cell_type": "code",
   "execution_count": null,
   "id": "0d52b8a3-c301-457c-9202-4573895e8e2f",
   "metadata": {},
   "outputs": [],
   "source": [
    "extdoa22 = doa22[doa22['regiao_doador']=='Exterior']\n",
    "extdoa22"
   ]
  },
  {
   "cell_type": "markdown",
   "id": "de0424f3-ac3a-48a2-bff9-04fa44ee9028",
   "metadata": {},
   "source": [
    "Pode-se notar que todos os registros nulos são de doadores ou beneficiários no exterior, ou de valores de 2022."
   ]
  },
  {
   "cell_type": "markdown",
   "id": "71f21bd6-00eb-47c2-b070-758a3c8b42e8",
   "metadata": {},
   "source": [
    "##### 2.8.3.1. Tratamento dos registros em que a região seja \"Exterior\""
   ]
  },
  {
   "cell_type": "markdown",
   "id": "19d34378-7786-4472-a3b9-a162ac96a086",
   "metadata": {},
   "source": [
    "Vamos verificar os valores das doações feitas por doadores no exterior."
   ]
  },
  {
   "cell_type": "code",
   "execution_count": null,
   "id": "223bc0f0-0b98-4ac4-b042-3b3559b03e15",
   "metadata": {},
   "outputs": [],
   "source": [
    "extdoa"
   ]
  },
  {
   "cell_type": "markdown",
   "id": "6ce94408-f822-4fa1-99f5-78f678e79ba3",
   "metadata": {},
   "source": [
    "Vamos verificar as doações feitas para beneficiários no exterior:"
   ]
  },
  {
   "cell_type": "code",
   "execution_count": null,
   "id": "3369f8ec-1325-48a9-9f94-96048a827d3c",
   "metadata": {},
   "outputs": [],
   "source": [
    "extben"
   ]
  },
  {
   "cell_type": "markdown",
   "id": "490feb39-3b6c-40e1-8743-12c9fab554ee",
   "metadata": {},
   "source": [
    "Os valores poderão ser desconsiderados, sem que haja prejuízos para este estudo."
   ]
  },
  {
   "cell_type": "markdown",
   "id": "873c7404-e976-452b-9260-e2b39f5d0baa",
   "metadata": {},
   "source": [
    "##### 2.8.3.2. Tratamento dos registros em que o ano seja 2022"
   ]
  },
  {
   "cell_type": "markdown",
   "id": "58d72c4b-68b2-4a5e-bde9-916bd05df679",
   "metadata": {},
   "source": [
    "Será necessário preencher o valor do PIB municipal para o ano de 2022. Optamos por aplicar o percentual de 11,85%, que foi o aumento do PIB, em valores correntes  de 2021 para 2022, aos valores de 2021."
   ]
  },
  {
   "cell_type": "code",
   "execution_count": null,
   "id": "8f2b4fb7-0d65-4cc5-8734-c639feb22d60",
   "metadata": {},
   "outputs": [],
   "source": [
    "# Criação de subset com os dados do PIB municipal de 2021\n",
    "pibmun22 = pibmun[pibmun['Ano']==2021]\n",
    "#Criação de coluna com o ano de 2022\n",
    "pibmun22['Ano2022']=2022\n",
    "# Criação de coluna com o PIB municipal de 2022\n",
    "pibmun22['PIB2022']=pibmun22['PIB']*1.1185\n",
    "# Remoção das colunas anteriores\n",
    "pibmun22.drop(['Ano','PIB'], inplace=True, axis=1)\n",
    "# Alteração dos nomes das colunas\n",
    "pibmun22.rename(columns={'Ano2022':'Ano','PIB2022':'PIB'}, inplace = True)\n",
    "# Correção do ano na coluna \"ano_mun\"\n",
    "pibmun22.replace('2021','2022', regex=True,inplace = True)\n",
    "# Correção da ordem das colunas\n",
    "colspibmun22 = ['Ano','PIB','ano_mun']\n",
    "pibmun22=pibmun22[colspibmun22]\n",
    "pibmun22"
   ]
  },
  {
   "cell_type": "markdown",
   "id": "63368e6c-0d23-417b-9934-3557830e3c2e",
   "metadata": {},
   "source": [
    "Iremos, agora, juntar os valores calculados para 2022 à base do PIB municipal"
   ]
  },
  {
   "cell_type": "code",
   "execution_count": null,
   "id": "18a93438-efa1-4364-a7fa-2b20c91eafc7",
   "metadata": {},
   "outputs": [],
   "source": [
    "pibmun=pd.concat([pibmun,pibmun22])\n",
    "pibmun"
   ]
  },
  {
   "cell_type": "markdown",
   "id": "416e4d31-b2dc-4f23-b9cd-34486a6ba297",
   "metadata": {},
   "source": [
    "Observa-se que o total de linhas da tabela do pib por município (72.395) é o valor anterior (66.825) acrescido da quantidade de registros da tabela do PIB 2022 por município (5.570)."
   ]
  },
  {
   "cell_type": "markdown",
   "id": "5216a55d-edba-49f4-8c5b-e6070ece1240",
   "metadata": {},
   "source": [
    "##### 2.8.3.2. Nova juntada dos dados do PIB municipal"
   ]
  },
  {
   "cell_type": "code",
   "execution_count": null,
   "id": "8782a70f-d58e-426c-b5f5-38128742c070",
   "metadata": {},
   "outputs": [],
   "source": [
    "# Juntada dos dados do PIB municipal, por ano\n",
    "doapibmun = doacoes.merge(pibmun, on=\"ano_mun\", how='left')\n",
    "benpibmun = benef.merge(pibmun, on=\"ano_mun\", how='left')\n",
    "print(doapibmun.info())\n",
    "print(benpibmun.info())"
   ]
  },
  {
   "cell_type": "markdown",
   "id": "599bec4b-632a-493c-b111-9a50d3da1f90",
   "metadata": {},
   "source": [
    "Iremos remover os dados em que a região do doador ou do beneficiário seja \"Exterior\"."
   ]
  },
  {
   "cell_type": "code",
   "execution_count": null,
   "id": "ed4ff129-e4a3-4111-900f-c799810ef54a",
   "metadata": {},
   "outputs": [],
   "source": [
    "doadrop = doapibmun[doapibmun['regiao_doador']=='Exterior'].index\n",
    "doapibmun.drop(doadrop, inplace=True)\n",
    "doapibmun.info()"
   ]
  },
  {
   "cell_type": "code",
   "execution_count": null,
   "id": "8094d1dc-6a22-4215-8f53-611ea054730f",
   "metadata": {},
   "outputs": [],
   "source": [
    "bendrop = benpibmun[benpibmun['regiao_benef']=='Exterior'].index\n",
    "benpibmun.drop(bendrop, inplace = True)\n",
    "benpibmun.info()"
   ]
  },
  {
   "cell_type": "markdown",
   "id": "d95b13e4-a4bf-40e2-a30c-872598846812",
   "metadata": {},
   "source": [
    "### 2.9. Limpeza final dos dados"
   ]
  },
  {
   "cell_type": "code",
   "execution_count": null,
   "id": "64800ed0-52ed-423e-aaed-8a4e98a6ea64",
   "metadata": {},
   "outputs": [],
   "source": [
    "doapibmun.drop(columns=['fonte','base_legal','regiao_doador','uf_doador','qtde_doadores','vl_total_dedutivel','Ano'], inplace = True)\n",
    "#benpibmun.drop(columns=['fonte','base_legal','regiao_benef','uf_beneficiario','qtde_beneficiarios','vl_total_dedutivel','ano_mun','Ano'], inplace = True)\n",
    "print(doapibmun)\n",
    "#print(benpibmun)"
   ]
  },
  {
   "cell_type": "code",
   "execution_count": null,
   "id": "83917b33-0926-4282-a3df-4cb79f3a971a",
   "metadata": {},
   "outputs": [],
   "source": [
    "# Renomeia as colunas do dataframe de doações e altera o índice para o ano\n",
    "doapibmun.rename(columns={'ano_cal':'ano', 'munic_doador': 'municipio', 'vl_total_doacao':'doacao', 'PIB':'PIB'}, inplace = True)\n"
   ]
  },
  {
   "cell_type": "code",
   "execution_count": null,
   "id": "6c31c811-00ed-46f5-a18a-76ab676698e5",
   "metadata": {},
   "outputs": [],
   "source": [
    "# Altera o tipo de dados da coluna \"ano\" para datetime, para possibilitar o uso do modelo ARIMA.\n",
    "# doapibmun['ano'].astype('int32')\n",
    "# doapibmun['ano'] = pd.to_datetime(doapibmun['ano'],format = '%Y')\n",
    "doapibmun.set_index('ano', inplace=True)\n",
    "doapibmun"
   ]
  },
  {
   "cell_type": "markdown",
   "id": "46403d6a-6240-4298-8a9a-d84ce0708b9b",
   "metadata": {},
   "source": [
    "Para melhorar a performance dos algoritmos de machine learning, iremos substituir os dados presentes na coluna de município por um número inteiro."
   ]
  },
  {
   "cell_type": "code",
   "execution_count": null,
   "id": "ca41a7f9-bcaa-43bc-9e0b-85f481761387",
   "metadata": {},
   "outputs": [],
   "source": [
    "# Cria array com os municípios\n",
    "municarray = doapibmun['municipio'].unique()\n",
    "municarray.shape"
   ]
  },
  {
   "cell_type": "code",
   "execution_count": null,
   "id": "37305175-f4a3-4871-b1da-d408dd27d4bb",
   "metadata": {
    "scrolled": true
   },
   "outputs": [],
   "source": [
    "# Cria array com números de 1 a 2027\n",
    "codigosarray = np.arange(start=1, stop=2028, step=1)\n",
    "# Concatena as duas arrays em um dicionário\n",
    "mun = {A: B for A, B in zip(municarray, codigosarray)}"
   ]
  },
  {
   "cell_type": "code",
   "execution_count": null,
   "id": "a27ddb1c-fc1e-4286-ab79-c580f7fd3655",
   "metadata": {
    "scrolled": true
   },
   "outputs": [],
   "source": [
    "# Dataframe com os códigos de municípios\n",
    "doapibmun['cdmun']=doapibmun['municipio'].map(mun)\n",
    "cols5 = ['cdmun','doacao','PIB']\n",
    "doacd = doapibmun[cols5]\n",
    "doacd"
   ]
  },
  {
   "cell_type": "code",
   "execution_count": null,
   "id": "277e123f-e7d7-46dd-8948-395c1d90a4d9",
   "metadata": {
    "editable": true,
    "slideshow": {
     "slide_type": ""
    },
    "tags": []
   },
   "outputs": [],
   "source": [
    "doacd.info()"
   ]
  },
  {
   "cell_type": "markdown",
   "id": "9cc78c50-2922-4189-99d5-1babce46e463",
   "metadata": {},
   "source": [
    "Observa-se que não restaram dados nulos no dataframe."
   ]
  },
  {
   "cell_type": "markdown",
   "id": "f5ebd8d7-e775-4e3e-b3a6-7cb78b45f85a",
   "metadata": {},
   "source": [
    "### 2.10. Salvamento do dataframe gerado"
   ]
  },
  {
   "cell_type": "markdown",
   "id": "41c911b7-3815-4edb-b163-d00b4032c18b",
   "metadata": {},
   "source": [
    "Faremos o salvamento do dataframe gerado neste notebook para carregá-lo em um outro notebook, no qual realizaremos as predições."
   ]
  },
  {
   "cell_type": "code",
   "execution_count": null,
   "id": "d1036d70-ddbd-4636-9c6b-9699185bf026",
   "metadata": {
    "editable": true,
    "slideshow": {
     "slide_type": ""
    },
    "tags": []
   },
   "outputs": [],
   "source": [
    "doapibmun.to_csv('doapibmun.csv')\n",
    "doacd.to_csv('doacd.csv')\n",
    "pibmun.to_csv('pibmun.csv')"
   ]
  }
 ],
 "metadata": {
  "kernelspec": {
   "display_name": "Python 3 (ipykernel)",
   "language": "python",
   "name": "python3"
  },
  "language_info": {
   "codemirror_mode": {
    "name": "ipython",
    "version": 3
   },
   "file_extension": ".py",
   "mimetype": "text/x-python",
   "name": "python",
   "nbconvert_exporter": "python",
   "pygments_lexer": "ipython3",
   "version": "3.9.18"
  }
 },
 "nbformat": 4,
 "nbformat_minor": 5
}
